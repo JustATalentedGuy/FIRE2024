{
 "cells": [
  {
   "cell_type": "markdown",
   "metadata": {},
   "source": [
    "# **TAMIL WORD-LEVEL TEXT CLASSIFICATION**"
   ]
  },
  {
   "cell_type": "markdown",
   "metadata": {},
   "source": [
    "## Importing the requirements"
   ]
  },
  {
   "cell_type": "code",
   "execution_count": 8,
   "metadata": {},
   "outputs": [],
   "source": [
    "# For Data Analysis and Manipulation\n",
    "import pandas as pd\n",
    "import numpy as np\n",
    "\n",
    "# For Data Visualization\n",
    "import matplotlib.pyplot as plt\n",
    "import seaborn as sb\n",
    "from prettytable import PrettyTable\n",
    "\n",
    "# For Model Building\n",
    "from sklearn.model_selection import KFold\n",
    "from sklearn.linear_model import LogisticRegression\n",
    "from sklearn import svm\n",
    "from sklearn.tree import DecisionTreeClassifier\n",
    "from sklearn.feature_extraction.text import CountVectorizer\n",
    "from sklearn.ensemble import VotingClassifier\n",
    "\n",
    "# For Analyzing Model's performance\n",
    "from sklearn.metrics import accuracy_score, \\\n",
    "                            f1_score, \\\n",
    "                            classification_report, \\\n",
    "                            precision_score, \\\n",
    "                            recall_score"
   ]
  },
  {
   "cell_type": "markdown",
   "metadata": {},
   "source": [
    "## Data Collection"
   ]
  },
  {
   "cell_type": "markdown",
   "metadata": {},
   "source": [
    "### Reading all the given data"
   ]
  },
  {
   "cell_type": "code",
   "execution_count": 9,
   "metadata": {},
   "outputs": [],
   "source": [
    "kanada_data = pd.read_csv(\"Train/kn_train.csv\")\n",
    "kanada_val = pd.read_csv(\"Validation/kn_val.csv\")\n",
    "kanada_data = pd.concat([kanada_data, kanada_val], axis=0)\n",
    "\n",
    "tamil_data = pd.read_csv(\"Train/tamil_train.csv\")\n",
    "tamil_val = pd.read_csv(\"Validation/tamil_val.csv\")\n",
    "tamil_data = pd.concat([tamil_data, tamil_val], axis=0)\n",
    "\n",
    "tulu_data = pd.read_csv(\"Train/tulu_train.csv\")\n",
    "tulu_val = pd.read_csv(\"Validation/tulu_val.csv\")\n",
    "tulu_data = pd.concat([tulu_data, tulu_val], axis=0)\n",
    "\n",
    "malayalam_data = pd.read_csv(\"Train/mal_train.csv\")\n",
    "malayalam_val = pd.read_csv(\"Validation/mal_val.csv\")\n",
    "malayalam_data = pd.concat([malayalam_data, malayalam_val], axis=0)"
   ]
  },
  {
   "cell_type": "markdown",
   "metadata": {},
   "source": [
    "### Removing unwanted data and Oversampling for specific categories"
   ]
  },
  {
   "cell_type": "code",
   "execution_count": 10,
   "metadata": {},
   "outputs": [
    {
     "name": "stderr",
     "output_type": "stream",
     "text": [
      "C:\\Users\\justa\\AppData\\Local\\Temp\\ipykernel_9432\\53615739.py:14: SettingWithCopyWarning: \n",
      "A value is trying to be set on a copy of a slice from a DataFrame.\n",
      "Try using .loc[row_indexer,col_indexer] = value instead\n",
      "\n",
      "See the caveats in the documentation: https://pandas.pydata.org/pandas-docs/stable/user_guide/indexing.html#returning-a-view-versus-a-copy\n",
      "  tulu_name[\"Tag\"] = tulu_name[\"Tag\"].replace(\"Name\", \"name\")\n",
      "C:\\Users\\justa\\AppData\\Local\\Temp\\ipykernel_9432\\53615739.py:16: SettingWithCopyWarning: \n",
      "A value is trying to be set on a copy of a slice from a DataFrame.\n",
      "Try using .loc[row_indexer,col_indexer] = value instead\n",
      "\n",
      "See the caveats in the documentation: https://pandas.pydata.org/pandas-docs/stable/user_guide/indexing.html#returning-a-view-versus-a-copy\n",
      "  malayalam_name[\"Tag\"] = malayalam_name[\"Tag\"].replace(\"NAME\", \"name\")\n",
      "C:\\Users\\justa\\AppData\\Local\\Temp\\ipykernel_9432\\53615739.py:21: SettingWithCopyWarning: \n",
      "A value is trying to be set on a copy of a slice from a DataFrame.\n",
      "Try using .loc[row_indexer,col_indexer] = value instead\n",
      "\n",
      "See the caveats in the documentation: https://pandas.pydata.org/pandas-docs/stable/user_guide/indexing.html#returning-a-view-versus-a-copy\n",
      "  kanada_loc[\"Tag\"] = kanada_loc[\"Tag\"].replace(\"location\", \"Location\")\n",
      "C:\\Users\\justa\\AppData\\Local\\Temp\\ipykernel_9432\\53615739.py:25: SettingWithCopyWarning: \n",
      "A value is trying to be set on a copy of a slice from a DataFrame.\n",
      "Try using .loc[row_indexer,col_indexer] = value instead\n",
      "\n",
      "See the caveats in the documentation: https://pandas.pydata.org/pandas-docs/stable/user_guide/indexing.html#returning-a-view-versus-a-copy\n",
      "  malayalam_loc[\"Tag\"] = malayalam_loc[\"Tag\"].replace(\"PLACE\", \"Location\")\n"
     ]
    }
   ],
   "source": [
    "# Removing wrong data in the \"sym\" category and changing \"*\" symbol to \"asterisk\" word for Better Vectorization\n",
    "tamil_data = tamil_data[~((tamil_data[\"Tag\"] == \"sym\") & (tamil_data[\"Word\"] != \"*\"))].replace(\"*\", \"asterisk\").fillna(\"\")\n",
    "\n",
    "# Oversampling \"en\", \"other\", \"mixed\" categories to improve accuracy of those categories\n",
    "tamil_en = tamil_data[tamil_data[\"Tag\"] == \"en\"]\n",
    "tamil_other = tamil_data[tamil_data[\"Tag\"] == \"Other\"]\n",
    "tamil_mixed = tamil_data[tamil_data[\"Tag\"] == \"tmen\"]\n",
    "\n",
    "# Names from other languages are also included (More the data, Better the performance)\n",
    "tamil_name = tamil_data[tamil_data[\"Tag\"] == \"name\"]\n",
    "kanada_name = kanada_data[kanada_data[\"Tag\"] == \"name\"]\n",
    "tulu_name = tulu_data[tulu_data[\"Language\"] == \"Name\"]\n",
    "tulu_name.columns = [\"Word\", \"Tag\"]\n",
    "tulu_name[\"Tag\"] = tulu_name[\"Tag\"].replace(\"Name\", \"name\")\n",
    "malayalam_name = malayalam_data[malayalam_data[\"Tag\"] == \"NAME\"]\n",
    "malayalam_name[\"Tag\"] = malayalam_name[\"Tag\"].replace(\"NAME\", \"name\")\n",
    "\n",
    "# Locations from other languages are also included\n",
    "tamil_loc = tamil_data[tamil_data[\"Tag\"] == \"Location\"]\n",
    "kanada_loc = kanada_data[kanada_data[\"Tag\"] == \"location\"]\n",
    "kanada_loc[\"Tag\"] = kanada_loc[\"Tag\"].replace(\"location\", \"Location\")\n",
    "tulu_loc = tulu_data[tulu_data[\"Language\"] == \"Location\"]\n",
    "tulu_loc.columns = [\"Word\", \"Tag\"]\n",
    "malayalam_loc = malayalam_data[malayalam_data[\"Tag\"] == \"PLACE\"]\n",
    "malayalam_loc[\"Tag\"] = malayalam_loc[\"Tag\"].replace(\"PLACE\", \"Location\")\n",
    "\n",
    "# Combining all the data needed for training\n",
    "tamil_data = pd.concat([tamil_data, tamil_other, tamil_en, tamil_mixed, tamil_other, kanada_loc, tamil_other, kanada_name, tamil_other, tulu_name, tamil_mixed, tamil_name, tulu_loc, tamil_loc, tamil_other, malayalam_loc, malayalam_name])\n",
    "\n",
    "# Removing some unknown Tag present in the given dataset \n",
    "tamil_data[\"Tag\"] = np.where(tamil_data[\"Tag\"].isin([\"tm\", \"en\", \"tmen\", \"sym\", \"name\", \"Other\", \"Location\"]), tamil_data[\"Tag\"], \"Other\")"
   ]
  },
  {
   "cell_type": "markdown",
   "metadata": {},
   "source": [
    "## Data Visualization"
   ]
  },
  {
   "cell_type": "code",
   "execution_count": 11,
   "metadata": {},
   "outputs": [
    {
     "data": {
      "text/plain": [
       "Tag\n",
       "tm          8064\n",
       "name        7745\n",
       "en          6518\n",
       "tmen        4197\n",
       "sym         1309\n",
       "Location     839\n",
       "Other        489\n",
       "Name: count, dtype: int64"
      ]
     },
     "execution_count": 11,
     "metadata": {},
     "output_type": "execute_result"
    }
   ],
   "source": [
    "tamil_data[\"Tag\"].value_counts()"
   ]
  },
  {
   "cell_type": "code",
   "execution_count": 12,
   "metadata": {},
   "outputs": [
    {
     "data": {
      "text/plain": [
       "count     29161\n",
       "unique        7\n",
       "top          tm\n",
       "freq       8064\n",
       "Name: Tag, dtype: object"
      ]
     },
     "execution_count": 12,
     "metadata": {},
     "output_type": "execute_result"
    }
   ],
   "source": [
    "tamil_data[\"Tag\"].describe()"
   ]
  },
  {
   "cell_type": "code",
   "execution_count": 13,
   "metadata": {},
   "outputs": [
    {
     "data": {
      "text/plain": [
       "<Axes: xlabel='Tag', ylabel='Count'>"
      ]
     },
     "execution_count": 13,
     "metadata": {},
     "output_type": "execute_result"
    },
    {
     "data": {
      "image/png": "[encoded data removed]",
      "text/plain": [
       "<Figure size 640x480 with 1 Axes>"
      ]
     },
     "metadata": {},
     "output_type": "display_data"
    }
   ],
   "source": [
    "sb.histplot(tamil_data[\"Tag\"])"
   ]
  },
  {
   "cell_type": "markdown",
   "metadata": {},
   "source": [
    "## ML Model Analysis"
   ]
  },
  {
   "cell_type": "markdown",
   "metadata": {},
   "source": [
    "### Model and Vector Initialization"
   ]
  },
  {
   "cell_type": "code",
   "execution_count": 24,
   "metadata": {},
   "outputs": [],
   "source": [
    "# Using Character Level Count Vectorizer to extract features from each Word\n",
    "countVectorizer = CountVectorizer(ngram_range=(1,5), analyzer='char')\n",
    "\n",
    "# Used for analysis of each model\n",
    "kf = KFold(n_splits=10, shuffle=True, random_state=42)\n",
    "\n",
    "\n",
    "model1 = DecisionTreeClassifier(random_state=42)\n",
    "\n",
    "model2 = LogisticRegression(solver='newton-cg', max_iter=2000)\n",
    "\n",
    "model3 = svm.SVC()\n",
    "\n",
    "model7 = VotingClassifier(\n",
    "    estimators=[\n",
    "        ('dtc', model1), \n",
    "        ('lr', model2), \n",
    "        ('svm', model3),\n",
    "    ],\n",
    "    voting='hard'\n",
    ")\n",
    "\n",
    "\n",
    "acc = [[], [], []] \n",
    "f1 = [[], [], []]\n",
    "pre = [[], [], []]\n",
    "rec = [[], [], []]\n",
    "\n",
    "f1_a = [[], [], []]"
   ]
  },
  {
   "cell_type": "markdown",
   "metadata": {},
   "source": [
    "### Training of the Models"
   ]
  },
  {
   "cell_type": "code",
   "execution_count": 25,
   "metadata": {},
   "outputs": [],
   "source": [
    "# X,Y of the Training data\n",
    "X = tamil_data[\"Word\"]\n",
    "Y = tamil_data[\"Tag\"]\n",
    "\n",
    "\n",
    "for train_index, test_index in kf.split(X):\n",
    "    # Segregating the train and test data for this iteration\n",
    "    X_train, X_test = X.iloc[train_index], X.iloc[test_index]\n",
    "    y_train, y_test = Y.iloc[train_index], Y.iloc[test_index]\n",
    "    \n",
    "    # Vectorizing the Word\n",
    "    train_vect_count = countVectorizer.fit_transform(X_train)\n",
    "    test_vect_count = countVectorizer.transform(X_test)\n",
    "\n",
    "    # DECISION TREE CLASSIFIER MODEL\n",
    "    model1.fit(train_vect_count, y_train)\n",
    "    model1_predict = model1.predict(test_vect_count)\n",
    "\n",
    "    acc[0].append(accuracy_score(y_test, model1_predict))\n",
    "    f1[0].append(f1_score(y_test, model1_predict, average='macro'))\n",
    "    f1_a[0].append(f1_score(y_test, model1_predict, average='weighted'))\n",
    "    pre[0].append(precision_score(y_test, model1_predict, average='macro', zero_division=np.nan))\n",
    "    rec[0].append(recall_score(y_test, model1_predict, average='macro', zero_division=np.nan))\n",
    "\n",
    "\n",
    "    # LOGISTIC REGRESSION MODEL\n",
    "    model2.fit(train_vect_count, y_train)\n",
    "    model2_predict = model2.predict(test_vect_count)\n",
    "\n",
    "    acc[1].append(accuracy_score(y_test, model2_predict))\n",
    "    f1[1].append(f1_score(y_test, model2_predict, average='macro'))\n",
    "    f1_a[1].append(f1_score(y_test, model2_predict, average='weighted'))\n",
    "    pre[1].append(precision_score(y_test, model2_predict, average=\"macro\", zero_division=np.nan))\n",
    "    rec[1].append(recall_score(y_test, model2_predict, average=\"macro\", zero_division=np.nan))\n",
    "\n",
    "    # SUPPORT VECTOR MACHINE MODEL\n",
    "    model3.fit(train_vect_count, y_train)\n",
    "    model3_predict = model3.predict(test_vect_count)\n",
    "\n",
    "    acc[2].append(accuracy_score(y_test, model3_predict))\n",
    "    f1[2].append(f1_score(y_test, model3_predict, average=\"macro\"))\n",
    "    f1_a[2].append(f1_score(y_test, model3_predict, average=\"weighted\"))\n",
    "    pre[2].append(precision_score(y_test, model3_predict, average=\"macro\", zero_division=np.nan))\n",
    "    rec[2].append(recall_score(y_test, model3_predict, average=\"macro\", zero_division=np.nan))"
   ]
  },
  {
   "cell_type": "markdown",
   "metadata": {},
   "source": [
    "### Score analysis of each Model"
   ]
  },
  {
   "cell_type": "code",
   "execution_count": 26,
   "metadata": {},
   "outputs": [
    {
     "data": {
      "text/html": [
       "<table>\n",
       "    <thead>\n",
       "        <tr>\n",
       "            <th>Model Name</th>\n",
       "            <th>Accuracy</th>\n",
       "            <th>F1 Score (Macro)</th>\n",
       "            <th>F1 Score (Weighted)</th>\n",
       "            <th>Precision</th>\n",
       "            <th>Recall Score</th>\n",
       "        </tr>\n",
       "    </thead>\n",
       "    <tbody>\n",
       "        <tr>\n",
       "            <td>Decision Tree Classifier</td>\n",
       "            <td>0.9235622807128921</td>\n",
       "            <td>0.9207967845296935</td>\n",
       "            <td>0.923197287100783</td>\n",
       "            <td>0.9140878146385492</td>\n",
       "            <td>0.9289657124749731</td>\n",
       "        </tr>\n",
       "        <tr>\n",
       "            <td>Logistic Regression</td>\n",
       "            <td>0.9374848988451878</td>\n",
       "            <td>0.934104558149507</td>\n",
       "            <td>0.9373220752178112</td>\n",
       "            <td>0.9324733946938488</td>\n",
       "            <td>0.9368028195401938</td>\n",
       "        </tr>\n",
       "        <tr>\n",
       "            <td>Support Vector Machine</td>\n",
       "            <td>0.9232536857633672</td>\n",
       "            <td>0.9133870387577682</td>\n",
       "            <td>0.9229353984307156</td>\n",
       "            <td>0.9243395434946248</td>\n",
       "            <td>0.906087542871138</td>\n",
       "        </tr>\n",
       "    </tbody>\n",
       "</table>"
      ],
      "text/plain": [
       "+--------------------------+--------------------+--------------------+---------------------+--------------------+--------------------+\n",
       "|        Model Name        |      Accuracy      |  F1 Score (Macro)  | F1 Score (Weighted) |     Precision      |    Recall Score    |\n",
       "+--------------------------+--------------------+--------------------+---------------------+--------------------+--------------------+\n",
       "| Decision Tree Classifier | 0.9235622807128921 | 0.9207967845296935 |  0.923197287100783  | 0.9140878146385492 | 0.9289657124749731 |\n",
       "|   Logistic Regression    | 0.9374848988451878 | 0.934104558149507  |  0.9373220752178112 | 0.9324733946938488 | 0.9368028195401938 |\n",
       "|  Support Vector Machine  | 0.9232536857633672 | 0.9133870387577682 |  0.9229353984307156 | 0.9243395434946248 | 0.906087542871138  |\n",
       "+--------------------------+--------------------+--------------------+---------------------+--------------------+--------------------+"
      ]
     },
     "execution_count": 26,
     "metadata": {},
     "output_type": "execute_result"
    }
   ],
   "source": [
    "DTC = [\"Decision Tree Classifier\",sum(acc[0])/len(acc[0]), sum(f1[0])/len(f1[0]), sum(f1_a[0])/len(f1_a[0]),sum(pre[0])/len(pre[0]), sum(rec[0])/len(rec[0])]\n",
    "Logistic = [\"Logistic Regression\", sum(acc[1])/len(acc[1]), sum(f1[1])/len(f1[1]), sum(f1_a[1])/len(f1_a[1]), sum(pre[1])/len(pre[1]), sum(rec[1])/len(rec[1])]\n",
    "SVM = [\"Support Vector Machine\",sum(acc[2])/len(acc[2]), sum(f1[2])/len(f1[2]), sum(f1_a[2])/len(f1_a[2]), sum(pre[2])/len(pre[2]), sum(rec[2])/len(rec[2])]\n",
    "\n",
    "fields = [\"Model Name\", \"Accuracy\", \"F1 Score (Macro)\", \"F1 Score (Weighted)\", \"Precision\", \"Recall Score\"]\n",
    "\n",
    "table = PrettyTable(field_names=fields)\n",
    "table.add_rows([DTC, Logistic, SVM])\n",
    "table"
   ]
  },
  {
   "cell_type": "markdown",
   "metadata": {},
   "source": [
    "## Model Training and Prediction"
   ]
  },
  {
   "cell_type": "code",
   "execution_count": 27,
   "metadata": {},
   "outputs": [],
   "source": [
    "# Initializing the Training and Test data\n",
    "x_train = tamil_data[\"Word\"]\n",
    "y_train = tamil_data[\"Tag\"]\n",
    "final_test = pd.read_csv(\"Test/Tamil_Test_Set_No_Labels.csv\")\n",
    "x_test = final_test[\"Word\"].replace(\"*\", \"asterisk\").fillna(\"\")\n",
    "\n",
    "# Vectorizing the Words\n",
    "count_vec_train = countVectorizer.fit_transform(x_train)\n",
    "count_vec_test = countVectorizer.transform(x_test)\n",
    "\n",
    "# Fitting the Training Data in the Model\n",
    "model7.fit(count_vec_train, y_train)\n",
    "\n",
    "# Predicting the Test Data\n",
    "pred = model7.predict(count_vec_test)\n",
    "\n",
    "# Converting the Predictions back to CSV file\n",
    "result = pd.concat([final_test.reset_index(drop=True), pd.Series(pred, name=\"Tag\")], axis=1)\n",
    "result.to_csv('Predictions/predictions_tam.csv', index=False)"
   ]
  },
  {
   "cell_type": "markdown",
   "metadata": {},
   "source": [
    "## Overview of Prediction"
   ]
  },
  {
   "cell_type": "code",
   "execution_count": 28,
   "metadata": {},
   "outputs": [
    {
     "data": {
      "text/plain": [
       "Tag\n",
       "tm          953\n",
       "en          547\n",
       "sym         204\n",
       "tmen        149\n",
       "name        140\n",
       "Location     16\n",
       "Other        15\n",
       "Name: count, dtype: int64"
      ]
     },
     "execution_count": 28,
     "metadata": {},
     "output_type": "execute_result"
    }
   ],
   "source": [
    "ans = pd.read_csv(\"Predictions/predictions_tam.csv\")\n",
    "ans[\"Tag\"].value_counts()"
   ]
  },
  {
   "cell_type": "markdown",
   "metadata": {},
   "source": [
    "# **KANNADA WORD-LEVEL TEXT CLASSIFICATION**"
   ]
  },
  {
   "cell_type": "markdown",
   "metadata": {},
   "source": [
    "## Importing the Requirements"
   ]
  },
  {
   "cell_type": "code",
   "execution_count": 1,
   "metadata": {},
   "outputs": [],
   "source": [
    "# For Data Analysis and Manipulation\n",
    "import pandas as pd\n",
    "import numpy as np\n",
    "\n",
    "# For Data Visualization\n",
    "import matplotlib.pyplot as plt\n",
    "import seaborn as sb\n",
    "from prettytable import PrettyTable\n",
    "\n",
    "# For Model Building\n",
    "from sklearn.model_selection import KFold\n",
    "from sklearn.linear_model import LogisticRegression\n",
    "from sklearn import svm\n",
    "from sklearn.tree import DecisionTreeClassifier\n",
    "from sklearn.feature_extraction.text import CountVectorizer\n",
    "from sklearn.ensemble import VotingClassifier\n",
    "\n",
    "# For Analyzing Model's performance\n",
    "from sklearn.metrics import accuracy_score, \\\n",
    "                            f1_score, \\\n",
    "                            classification_report, \\\n",
    "                            precision_score, \\\n",
    "                            recall_score"
   ]
  },
  {
   "cell_type": "markdown",
   "metadata": {},
   "source": [
    "## Data Collection"
   ]
  },
  {
   "cell_type": "markdown",
   "metadata": {},
   "source": [
    "### Reading all the Given Data"
   ]
  },
  {
   "cell_type": "code",
   "execution_count": 2,
   "metadata": {},
   "outputs": [],
   "source": [
    "kanada_data = pd.read_csv(\"Train/kn_train.csv\")\n",
    "kanada_val = pd.read_csv(\"Validation/kn_val.csv\")\n",
    "kanada_data = pd.concat([kanada_data, kanada_val], axis=0)\n",
    "\n",
    "tamil_data = pd.read_csv(\"Train/tamil_train.csv\")\n",
    "tamil_val = pd.read_csv(\"Validation/tamil_val.csv\")\n",
    "tamil_data = pd.concat([tamil_data, tamil_val], axis=0)\n",
    "\n",
    "tulu_data = pd.read_csv(\"Train/tulu_train.csv\")\n",
    "tulu_val = pd.read_csv(\"Validation/tulu_val.csv\")\n",
    "tulu_data = pd.concat([tulu_data, tulu_val], axis=0)\n",
    "\n",
    "malayalam_data = pd.read_csv(\"Train/mal_train.csv\")\n",
    "malayalam_val = pd.read_csv(\"Validation/mal_val.csv\")\n",
    "malayalam_data = pd.concat([malayalam_data, malayalam_val], axis=0)"
   ]
  },
  {
   "cell_type": "markdown",
   "metadata": {},
   "source": [
    "### Removing unwanted data and Oversampling for specific categories"
   ]
  },
  {
   "cell_type": "code",
   "execution_count": 3,
   "metadata": {},
   "outputs": [
    {
     "name": "stderr",
     "output_type": "stream",
     "text": [
      "C:\\Users\\justa\\AppData\\Local\\Temp\\ipykernel_3744\\3695561383.py:9: SettingWithCopyWarning: \n",
      "A value is trying to be set on a copy of a slice from a DataFrame.\n",
      "Try using .loc[row_indexer,col_indexer] = value instead\n",
      "\n",
      "See the caveats in the documentation: https://pandas.pydata.org/pandas-docs/stable/user_guide/indexing.html#returning-a-view-versus-a-copy\n",
      "  tulu_kn[\"Tag\"] = tulu_kn[\"Tag\"].replace(\"Kannada\", \"kn\")\n",
      "C:\\Users\\justa\\AppData\\Local\\Temp\\ipykernel_3744\\3695561383.py:17: SettingWithCopyWarning: \n",
      "A value is trying to be set on a copy of a slice from a DataFrame.\n",
      "Try using .loc[row_indexer,col_indexer] = value instead\n",
      "\n",
      "See the caveats in the documentation: https://pandas.pydata.org/pandas-docs/stable/user_guide/indexing.html#returning-a-view-versus-a-copy\n",
      "  tulu_name[\"Tag\"] = tulu_name[\"Tag\"].replace(\"Name\", \"name\")\n",
      "C:\\Users\\justa\\AppData\\Local\\Temp\\ipykernel_3744\\3695561383.py:19: SettingWithCopyWarning: \n",
      "A value is trying to be set on a copy of a slice from a DataFrame.\n",
      "Try using .loc[row_indexer,col_indexer] = value instead\n",
      "\n",
      "See the caveats in the documentation: https://pandas.pydata.org/pandas-docs/stable/user_guide/indexing.html#returning-a-view-versus-a-copy\n",
      "  malayalam_name[\"Tag\"] = malayalam_name[\"Tag\"].replace(\"NAME\", \"name\")\n",
      "C:\\Users\\justa\\AppData\\Local\\Temp\\ipykernel_3744\\3695561383.py:23: SettingWithCopyWarning: \n",
      "A value is trying to be set on a copy of a slice from a DataFrame.\n",
      "Try using .loc[row_indexer,col_indexer] = value instead\n",
      "\n",
      "See the caveats in the documentation: https://pandas.pydata.org/pandas-docs/stable/user_guide/indexing.html#returning-a-view-versus-a-copy\n",
      "  tamil_loc[\"Tag\"] = tamil_loc[\"Tag\"].replace(\"Location\", \"location\")\n",
      "C:\\Users\\justa\\AppData\\Local\\Temp\\ipykernel_3744\\3695561383.py:27: SettingWithCopyWarning: \n",
      "A value is trying to be set on a copy of a slice from a DataFrame.\n",
      "Try using .loc[row_indexer,col_indexer] = value instead\n",
      "\n",
      "See the caveats in the documentation: https://pandas.pydata.org/pandas-docs/stable/user_guide/indexing.html#returning-a-view-versus-a-copy\n",
      "  tulu_loc[\"Tag\"] = tulu_loc[\"Tag\"].replace(\"Location\", \"location\")\n",
      "C:\\Users\\justa\\AppData\\Local\\Temp\\ipykernel_3744\\3695561383.py:29: SettingWithCopyWarning: \n",
      "A value is trying to be set on a copy of a slice from a DataFrame.\n",
      "Try using .loc[row_indexer,col_indexer] = value instead\n",
      "\n",
      "See the caveats in the documentation: https://pandas.pydata.org/pandas-docs/stable/user_guide/indexing.html#returning-a-view-versus-a-copy\n",
      "  malayalam_loc[\"Tag\"] = malayalam_loc[\"Tag\"].replace(\"PLACE\", \"location\")\n"
     ]
    }
   ],
   "source": [
    "# Removing wrong data in the \"sym\" category and changing \"*\" symbol to \"asterisk\" word for Better Vectorization\n",
    "kanada_data = kanada_data[~((kanada_data[\"Word\"] == \"and\") & (kanada_data[\"Tag\"] == \"sym\"))].replace(\"*\", \"asterisk\").fillna(\"\")\n",
    "\n",
    "# Oversampling \"other\", \"mixed\" and \"kn\" categories to improve accuracy of those categories\n",
    "kanada_other = kanada_data[kanada_data[\"Tag\"] == \"other\"]\n",
    "kn = kanada_data[kanada_data[\"Tag\"] == \"kn\"]\n",
    "tulu_kn = tulu_data[tulu_data[\"Language\"] == \"Kannada\"]\n",
    "tulu_kn.columns = [\"Word\", \"Tag\"]\n",
    "tulu_kn[\"Tag\"] = tulu_kn[\"Tag\"].replace(\"Kannada\", \"kn\")\n",
    "kn_mixed = kanada_data[kanada_data[\"Tag\"] == \"mixed\"]\n",
    "\n",
    "# Names from other languages are also included (More the data, Better the performance)\n",
    "tamil_name = tamil_data[tamil_data[\"Tag\"] == \"name\"]\n",
    "kanada_name = kanada_data[kanada_data[\"Tag\"] == \"name\"]\n",
    "tulu_name = tulu_data[tulu_data[\"Language\"] == \"Name\"]\n",
    "tulu_name.columns = [\"Word\", \"Tag\"]\n",
    "tulu_name[\"Tag\"] = tulu_name[\"Tag\"].replace(\"Name\", \"name\")\n",
    "malayalam_name = malayalam_data[malayalam_data[\"Tag\"] == \"NAME\"]\n",
    "malayalam_name[\"Tag\"] = malayalam_name[\"Tag\"].replace(\"NAME\", \"name\")\n",
    "\n",
    "# Locations from other languages are also included\n",
    "tamil_loc = tamil_data[tamil_data[\"Tag\"] == \"Location\"]\n",
    "tamil_loc[\"Tag\"] = tamil_loc[\"Tag\"].replace(\"Location\", \"location\")\n",
    "kanada_loc = kanada_data[kanada_data[\"Tag\"] == \"location\"]\n",
    "tulu_loc = tulu_data[tulu_data[\"Language\"] == \"Location\"]\n",
    "tulu_loc.columns = [\"Word\", \"Tag\"]\n",
    "tulu_loc[\"Tag\"] = tulu_loc[\"Tag\"].replace(\"Location\", \"location\")\n",
    "malayalam_loc = malayalam_data[malayalam_data[\"Tag\"] == \"PLACE\"]\n",
    "malayalam_loc[\"Tag\"] = malayalam_loc[\"Tag\"].replace(\"PLACE\", \"location\")\n",
    "\n",
    "# Combining all the data needed for training\n",
    "kanada_data = pd.concat([kanada_data, tulu_kn, kanada_loc, kanada_name, tulu_name, kn_mixed, tamil_name, kanada_other, tulu_loc, kn, tamil_loc, malayalam_loc, kn_mixed, malayalam_name]).fillna(\"\")"
   ]
  },
  {
   "cell_type": "markdown",
   "metadata": {},
   "source": [
    "## Data Visualization"
   ]
  },
  {
   "cell_type": "code",
   "execution_count": 4,
   "metadata": {},
   "outputs": [
    {
     "data": {
      "text/plain": [
       "Word      Tag  \n",
       "asterisk  sym      4063\n",
       "yash      name      769\n",
       "you       en        563\n",
       "supar     mixed     561\n",
       "and       en        516\n",
       "                   ... \n",
       "munni     name        1\n",
       "muneesh   name        1\n",
       "chand     name        1\n",
       "mummela   kn          1\n",
       "kaDime    kn          1\n",
       "Name: count, Length: 10646, dtype: int64"
      ]
     },
     "execution_count": 4,
     "metadata": {},
     "output_type": "execute_result"
    }
   ],
   "source": [
    "kanada_data.value_counts()"
   ]
  },
  {
   "cell_type": "code",
   "execution_count": 5,
   "metadata": {},
   "outputs": [
    {
     "data": {
      "text/html": [
       "<div>\n",
       "<style scoped>\n",
       "    .dataframe tbody tr th:only-of-type {\n",
       "        vertical-align: middle;\n",
       "    }\n",
       "\n",
       "    .dataframe tbody tr th {\n",
       "        vertical-align: top;\n",
       "    }\n",
       "\n",
       "    .dataframe thead th {\n",
       "        text-align: right;\n",
       "    }\n",
       "</style>\n",
       "<table border=\"1\" class=\"dataframe\">\n",
       "  <thead>\n",
       "    <tr style=\"text-align: right;\">\n",
       "      <th></th>\n",
       "      <th>Word</th>\n",
       "      <th>Tag</th>\n",
       "    </tr>\n",
       "  </thead>\n",
       "  <tbody>\n",
       "    <tr>\n",
       "      <th>count</th>\n",
       "      <td>52385</td>\n",
       "      <td>52385</td>\n",
       "    </tr>\n",
       "    <tr>\n",
       "      <th>unique</th>\n",
       "      <td>10453</td>\n",
       "      <td>7</td>\n",
       "    </tr>\n",
       "    <tr>\n",
       "      <th>top</th>\n",
       "      <td>asterisk</td>\n",
       "      <td>en</td>\n",
       "    </tr>\n",
       "    <tr>\n",
       "      <th>freq</th>\n",
       "      <td>4070</td>\n",
       "      <td>18777</td>\n",
       "    </tr>\n",
       "  </tbody>\n",
       "</table>\n",
       "</div>"
      ],
      "text/plain": [
       "            Word    Tag\n",
       "count      52385  52385\n",
       "unique     10453      7\n",
       "top     asterisk     en\n",
       "freq        4070  18777"
      ]
     },
     "execution_count": 5,
     "metadata": {},
     "output_type": "execute_result"
    }
   ],
   "source": [
    "kanada_data.describe()"
   ]
  },
  {
   "cell_type": "code",
   "execution_count": 6,
   "metadata": {},
   "outputs": [
    {
     "data": {
      "text/plain": [
       "<Axes: xlabel='Tag', ylabel='Count'>"
      ]
     },
     "execution_count": 6,
     "metadata": {},
     "output_type": "execute_result"
    },
    {
     "data": {
      "image/png": "[encoded data removed]",
      "text/plain": [
       "<Figure size 640x480 with 1 Axes>"
      ]
     },
     "metadata": {},
     "output_type": "display_data"
    }
   ],
   "source": [
    "sb.histplot(kanada_data[\"Tag\"])"
   ]
  },
  {
   "cell_type": "markdown",
   "metadata": {},
   "source": [
    "## ML Model Analysis"
   ]
  },
  {
   "cell_type": "markdown",
   "metadata": {},
   "source": [
    "### Model and Vector Initialization"
   ]
  },
  {
   "cell_type": "code",
   "execution_count": 7,
   "metadata": {},
   "outputs": [],
   "source": [
    "# Using Character Level Count Vectorizer to extract features from each Word\n",
    "countVectorizer = CountVectorizer(ngram_range=(1,5), analyzer='char')\n",
    "\n",
    "# Used for analysis of each model\n",
    "kf = KFold(n_splits=10, shuffle=True, random_state=42)\n",
    "\n",
    "\n",
    "model1 = DecisionTreeClassifier(random_state=42)\n",
    "\n",
    "model2 = LogisticRegression(solver='newton-cg', max_iter=2000)\n",
    "\n",
    "model3 = svm.SVC()\n",
    "\n",
    "model7 = VotingClassifier(\n",
    "    estimators=[\n",
    "        ('dtc', model1), \n",
    "        ('lr', model2), \n",
    "        ('svm', model3),\n",
    "    ],\n",
    "    voting='hard'\n",
    ")\n",
    "\n",
    "\n",
    "acc = [[], [], []] \n",
    "f1 = [[], [], []]\n",
    "pre = [[], [], []]\n",
    "rec = [[], [], []]\n",
    "\n",
    "f1_a = [[], [], []]"
   ]
  },
  {
   "cell_type": "markdown",
   "metadata": {},
   "source": [
    "### Training of the Models"
   ]
  },
  {
   "cell_type": "code",
   "execution_count": 8,
   "metadata": {},
   "outputs": [],
   "source": [
    "# X,Y of the Training data\n",
    "X = kanada_data[\"Word\"]\n",
    "Y = kanada_data[\"Tag\"]\n",
    "\n",
    "\n",
    "for train_index, test_index in kf.split(X):\n",
    "    # Segregating the train and test data for this iteration\n",
    "    X_train, X_test = X.iloc[train_index], X.iloc[test_index]\n",
    "    y_train, y_test = Y.iloc[train_index], Y.iloc[test_index]\n",
    "    \n",
    "    # Vectorizing the Word\n",
    "    train_vect_count = countVectorizer.fit_transform(X_train)\n",
    "    test_vect_count = countVectorizer.transform(X_test)\n",
    "\n",
    "    # DECISION TREE CLASSIFIER MODEL\n",
    "    model1.fit(train_vect_count, y_train)\n",
    "    model1_predict = model1.predict(test_vect_count)\n",
    "\n",
    "    acc[0].append(accuracy_score(y_test, model1_predict))\n",
    "    f1[0].append(f1_score(y_test, model1_predict, average='macro'))\n",
    "    f1_a[0].append(f1_score(y_test, model1_predict, average='weighted'))\n",
    "    pre[0].append(precision_score(y_test, model1_predict, average='macro', zero_division=np.nan))\n",
    "    rec[0].append(recall_score(y_test, model1_predict, average='macro', zero_division=np.nan))\n",
    "\n",
    "\n",
    "    # LOGISTIC REGRESSION MODEL\n",
    "    model2.fit(train_vect_count, y_train)\n",
    "    model2_predict = model2.predict(test_vect_count)\n",
    "\n",
    "    acc[1].append(accuracy_score(y_test, model2_predict))\n",
    "    f1[1].append(f1_score(y_test, model2_predict, average='macro'))\n",
    "    f1_a[1].append(f1_score(y_test, model2_predict, average='weighted'))\n",
    "    pre[1].append(precision_score(y_test, model2_predict, average=\"macro\", zero_division=np.nan))\n",
    "    rec[1].append(recall_score(y_test, model2_predict, average=\"macro\", zero_division=np.nan))\n",
    "\n",
    "    # SUPPORT VECTOR MACHINE MODEL\n",
    "    model3.fit(train_vect_count, y_train)\n",
    "    model3_predict = model3.predict(test_vect_count)\n",
    "\n",
    "    acc[2].append(accuracy_score(y_test, model3_predict))\n",
    "    f1[2].append(f1_score(y_test, model3_predict, average=\"macro\"))\n",
    "    f1_a[2].append(f1_score(y_test, model3_predict, average=\"weighted\"))\n",
    "    pre[2].append(precision_score(y_test, model3_predict, average=\"macro\", zero_division=np.nan))\n",
    "    rec[2].append(recall_score(y_test, model3_predict, average=\"macro\", zero_division=np.nan))"
   ]
  },
  {
   "cell_type": "markdown",
   "metadata": {},
   "source": [
    "### Score analysis of each Model"
   ]
  },
  {
   "cell_type": "code",
   "execution_count": 9,
   "metadata": {},
   "outputs": [
    {
     "data": {
      "text/html": [
       "<table>\n",
       "    <thead>\n",
       "        <tr>\n",
       "            <th>Model Name</th>\n",
       "            <th>Accuracy</th>\n",
       "            <th>F1 Score (Macro)</th>\n",
       "            <th>F1 Score (Weighted)</th>\n",
       "            <th>Precision</th>\n",
       "            <th>Recall Score</th>\n",
       "        </tr>\n",
       "    </thead>\n",
       "    <tbody>\n",
       "        <tr>\n",
       "            <td>Decision Tree Classifier</td>\n",
       "            <td>0.9525435828344426</td>\n",
       "            <td>0.943472996097498</td>\n",
       "            <td>0.9524164339286629</td>\n",
       "            <td>0.9445857062234179</td>\n",
       "            <td>0.9432625997979203</td>\n",
       "        </tr>\n",
       "        <tr>\n",
       "            <td>Logistic Regression</td>\n",
       "            <td>0.958938530527899</td>\n",
       "            <td>0.9511064826837863</td>\n",
       "            <td>0.9587376274508855</td>\n",
       "            <td>0.9551628973353552</td>\n",
       "            <td>0.9475618667529441</td>\n",
       "        </tr>\n",
       "        <tr>\n",
       "            <td>Support Vector Machine</td>\n",
       "            <td>0.9453849338758908</td>\n",
       "            <td>0.9352188218820473</td>\n",
       "            <td>0.944835482154906</td>\n",
       "            <td>0.9496513156367257</td>\n",
       "            <td>0.9230310420788204</td>\n",
       "        </tr>\n",
       "    </tbody>\n",
       "</table>"
      ],
      "text/plain": [
       "+--------------------------+--------------------+--------------------+---------------------+--------------------+--------------------+\n",
       "|        Model Name        |      Accuracy      |  F1 Score (Macro)  | F1 Score (Weighted) |     Precision      |    Recall Score    |\n",
       "+--------------------------+--------------------+--------------------+---------------------+--------------------+--------------------+\n",
       "| Decision Tree Classifier | 0.9525435828344426 | 0.943472996097498  |  0.9524164339286629 | 0.9445857062234179 | 0.9432625997979203 |\n",
       "|   Logistic Regression    | 0.958938530527899  | 0.9511064826837863 |  0.9587376274508855 | 0.9551628973353552 | 0.9475618667529441 |\n",
       "|  Support Vector Machine  | 0.9453849338758908 | 0.9352188218820473 |  0.944835482154906  | 0.9496513156367257 | 0.9230310420788204 |\n",
       "+--------------------------+--------------------+--------------------+---------------------+--------------------+--------------------+"
      ]
     },
     "execution_count": 9,
     "metadata": {},
     "output_type": "execute_result"
    }
   ],
   "source": [
    "DTC = [\"Decision Tree Classifier\",sum(acc[0])/len(acc[0]), sum(f1[0])/len(f1[0]), sum(f1_a[0])/len(f1_a[0]),sum(pre[0])/len(pre[0]), sum(rec[0])/len(rec[0])]\n",
    "Logistic = [\"Logistic Regression\", sum(acc[1])/len(acc[1]), sum(f1[1])/len(f1[1]), sum(f1_a[1])/len(f1_a[1]), sum(pre[1])/len(pre[1]), sum(rec[1])/len(rec[1])]\n",
    "SVM = [\"Support Vector Machine\",sum(acc[2])/len(acc[2]), sum(f1[2])/len(f1[2]), sum(f1_a[2])/len(f1_a[2]), sum(pre[2])/len(pre[2]), sum(rec[2])/len(rec[2])]\n",
    "\n",
    "fields = [\"Model Name\", \"Accuracy\", \"F1 Score (Macro)\", \"F1 Score (Weighted)\", \"Precision\", \"Recall Score\"]\n",
    "\n",
    "table = PrettyTable(field_names=fields)\n",
    "table.add_rows([DTC, Logistic, SVM])\n",
    "table"
   ]
  },
  {
   "cell_type": "markdown",
   "metadata": {},
   "source": [
    "## Model Training and Prediction"
   ]
  },
  {
   "cell_type": "code",
   "execution_count": 10,
   "metadata": {},
   "outputs": [],
   "source": [
    "# Initializing the Training and Test data\n",
    "x_train = kanada_data[\"Word\"]\n",
    "y_train = kanada_data[\"Tag\"]\n",
    "final_test = pd.read_csv(\"Test/Kannada_Test_Set_No_Labels.csv\")\n",
    "x_test = final_test[\"Word\"].replace(\"*\", \"asterisk\").fillna(\"\")\n",
    "\n",
    "# Vectorizing the Words\n",
    "count_vec_train = countVectorizer.fit_transform(x_train)\n",
    "count_vec_test = countVectorizer.transform(x_test)\n",
    "\n",
    "# Fitting the Training Data in the Model\n",
    "model7.fit(count_vec_train, y_train)\n",
    "\n",
    "# Predicting the Test Data\n",
    "pred = model7.predict(count_vec_test)\n",
    "\n",
    "# Converting the Predictions back to CSV file\n",
    "result = pd.concat([final_test.reset_index(drop=True), pd.Series(pred, name=\"Tag\")], axis=1)\n",
    "result.to_csv('Predictions/predictions_kn.csv', index=False)"
   ]
  },
  {
   "cell_type": "markdown",
   "metadata": {},
   "source": [
    "## Overview of Prediction"
   ]
  },
  {
   "cell_type": "code",
   "execution_count": 11,
   "metadata": {},
   "outputs": [
    {
     "data": {
      "text/plain": [
       "Tag\n",
       "en          1290\n",
       "kn           618\n",
       "sym          306\n",
       "name         124\n",
       "other         81\n",
       "mixed         66\n",
       "location      17\n",
       "Name: count, dtype: int64"
      ]
     },
     "execution_count": 11,
     "metadata": {},
     "output_type": "execute_result"
    }
   ],
   "source": [
    "ans = pd.read_csv(\"Predictions/predictions_kn.csv\")\n",
    "ans[\"Tag\"].value_counts()"
   ]
  },
  {
   "cell_type": "markdown",
   "metadata": {},
   "source": [
    "# **TULU WORD-LEVEL TEXT CLASSIFICATION**"
   ]
  },
  {
   "cell_type": "markdown",
   "metadata": {},
   "source": [
    "## Importing the Requirements"
   ]
  },
  {
   "cell_type": "code",
   "execution_count": 1,
   "metadata": {},
   "outputs": [],
   "source": [
    "# For Data Analysis and Manipulation\n",
    "import pandas as pd\n",
    "import numpy as np\n",
    "\n",
    "# For Data Visualization\n",
    "import matplotlib.pyplot as plt\n",
    "import seaborn as sb\n",
    "from prettytable import PrettyTable\n",
    "\n",
    "# For Model Building\n",
    "from sklearn.model_selection import KFold\n",
    "from sklearn.linear_model import LogisticRegression\n",
    "from sklearn import svm\n",
    "from sklearn.tree import DecisionTreeClassifier\n",
    "from sklearn.feature_extraction.text import CountVectorizer\n",
    "from sklearn.ensemble import VotingClassifier\n",
    "\n",
    "# For Analyzing Model's performance\n",
    "from sklearn.metrics import accuracy_score, \\\n",
    "                            f1_score, \\\n",
    "                            classification_report, \\\n",
    "                            precision_score, \\\n",
    "                            recall_score"
   ]
  },
  {
   "cell_type": "markdown",
   "metadata": {},
   "source": [
    "## Data Collection"
   ]
  },
  {
   "cell_type": "markdown",
   "metadata": {},
   "source": [
    "### Reading all the Given Data"
   ]
  },
  {
   "cell_type": "code",
   "execution_count": 2,
   "metadata": {},
   "outputs": [],
   "source": [
    "kanada_data = pd.read_csv(\"Train/kn_train.csv\")\n",
    "kanada_val = pd.read_csv(\"Validation/kn_val.csv\")\n",
    "kanada_data = pd.concat([kanada_data, kanada_val], axis=0)\n",
    "\n",
    "tamil_data = pd.read_csv(\"Train/tamil_train.csv\")\n",
    "tamil_val = pd.read_csv(\"Validation/tamil_val.csv\")\n",
    "tamil_data = pd.concat([tamil_data, tamil_val], axis=0)\n",
    "\n",
    "tulu_data = pd.read_csv(\"Train/tulu_train.csv\")\n",
    "tulu_val = pd.read_csv(\"Validation/tulu_val.csv\")\n",
    "tulu_data = pd.concat([tulu_data, tulu_val], axis=0)\n",
    "\n",
    "malayalam_data = pd.read_csv(\"Train/mal_train.csv\")\n",
    "malayalam_val = pd.read_csv(\"Validation/mal_val.csv\")\n",
    "malayalam_data = pd.concat([malayalam_data, malayalam_val], axis=0)"
   ]
  },
  {
   "cell_type": "markdown",
   "metadata": {},
   "source": [
    "### Oversampling for specific categories"
   ]
  },
  {
   "cell_type": "code",
   "execution_count": 3,
   "metadata": {},
   "outputs": [
    {
     "name": "stderr",
     "output_type": "stream",
     "text": [
      "C:\\Users\\justa\\AppData\\Local\\Temp\\ipykernel_9468\\893687168.py:11: SettingWithCopyWarning: \n",
      "A value is trying to be set on a copy of a slice from a DataFrame.\n",
      "Try using .loc[row_indexer,col_indexer] = value instead\n",
      "\n",
      "See the caveats in the documentation: https://pandas.pydata.org/pandas-docs/stable/user_guide/indexing.html#returning-a-view-versus-a-copy\n",
      "  tamil_name[\"Tag\"] = tamil_name[\"Tag\"].replace(\"name\", \"Name\")\n",
      "C:\\Users\\justa\\AppData\\Local\\Temp\\ipykernel_9468\\893687168.py:14: SettingWithCopyWarning: \n",
      "A value is trying to be set on a copy of a slice from a DataFrame.\n",
      "Try using .loc[row_indexer,col_indexer] = value instead\n",
      "\n",
      "See the caveats in the documentation: https://pandas.pydata.org/pandas-docs/stable/user_guide/indexing.html#returning-a-view-versus-a-copy\n",
      "  kanada_name[\"Tag\"] = kanada_name[\"Tag\"].replace(\"name\", \"Name\")\n",
      "C:\\Users\\justa\\AppData\\Local\\Temp\\ipykernel_9468\\893687168.py:18: SettingWithCopyWarning: \n",
      "A value is trying to be set on a copy of a slice from a DataFrame.\n",
      "Try using .loc[row_indexer,col_indexer] = value instead\n",
      "\n",
      "See the caveats in the documentation: https://pandas.pydata.org/pandas-docs/stable/user_guide/indexing.html#returning-a-view-versus-a-copy\n",
      "  malayalam_name[\"Tag\"] = malayalam_name[\"Tag\"].replace(\"NAME\", \"Name\")\n",
      "C:\\Users\\justa\\AppData\\Local\\Temp\\ipykernel_9468\\893687168.py:25: SettingWithCopyWarning: \n",
      "A value is trying to be set on a copy of a slice from a DataFrame.\n",
      "Try using .loc[row_indexer,col_indexer] = value instead\n",
      "\n",
      "See the caveats in the documentation: https://pandas.pydata.org/pandas-docs/stable/user_guide/indexing.html#returning-a-view-versus-a-copy\n",
      "  kanada_loc[\"Tag\"] = kanada_loc[\"Tag\"].replace(\"location\", \"Location\")\n",
      "C:\\Users\\justa\\AppData\\Local\\Temp\\ipykernel_9468\\893687168.py:29: SettingWithCopyWarning: \n",
      "A value is trying to be set on a copy of a slice from a DataFrame.\n",
      "Try using .loc[row_indexer,col_indexer] = value instead\n",
      "\n",
      "See the caveats in the documentation: https://pandas.pydata.org/pandas-docs/stable/user_guide/indexing.html#returning-a-view-versus-a-copy\n",
      "  malayalam_loc[\"Tag\"] = malayalam_loc[\"Tag\"].replace(\"PLACE\", \"Location\")\n"
     ]
    }
   ],
   "source": [
    "# Changing \"*\" symbol to \"asterisk\" word for Better Vectorization\n",
    "tulu_data = tulu_data.replace(\".\", \"asterisk\").fillna(\"\")\n",
    "\n",
    "# Oversampling \"mixed\", \"kannada\" and \"other\" categories to improve accuracy of those categories\n",
    "tulu_mixed = tulu_data[tulu_data[\"Language\"] == \"Mixed\"]\n",
    "tulu_kan = tulu_data[tulu_data[\"Language\"] == \"Kannada\"]\n",
    "tulu_other = tulu_data[tulu_data[\"Language\"] == \"Other\"]\n",
    "\n",
    "# Names from other languages are also included (More the data, Better the performance)\n",
    "tamil_name = tamil_data[tamil_data[\"Tag\"] == \"name\"]\n",
    "tamil_name[\"Tag\"] = tamil_name[\"Tag\"].replace(\"name\", \"Name\")\n",
    "tamil_name.columns = [\"Words\", \"Language\"]\n",
    "kanada_name = kanada_data[kanada_data[\"Tag\"] == \"name\"]\n",
    "kanada_name[\"Tag\"] = kanada_name[\"Tag\"].replace(\"name\", \"Name\")\n",
    "kanada_name.columns = [\"Words\", \"Language\"]\n",
    "tulu_name = tulu_data[tulu_data[\"Language\"] == \"Name\"]\n",
    "malayalam_name = malayalam_data[malayalam_data[\"Tag\"] == \"NAME\"]\n",
    "malayalam_name[\"Tag\"] = malayalam_name[\"Tag\"].replace(\"NAME\", \"Name\")\n",
    "malayalam_name.columns = [\"Words\", \"Language\"]\n",
    "\n",
    "# Location from other languages are also included\n",
    "tamil_loc = tamil_data[tamil_data[\"Tag\"] == \"Location\"]\n",
    "tamil_loc.columns = [\"Words\", \"Language\"]\n",
    "kanada_loc = kanada_data[kanada_data[\"Tag\"] == \"location\"]\n",
    "kanada_loc[\"Tag\"] = kanada_loc[\"Tag\"].replace(\"location\", \"Location\")\n",
    "kanada_loc.columns = [\"Words\", \"Language\"]\n",
    "tulu_loc = tulu_data[tulu_data[\"Language\"] == \"Location\"]\n",
    "malayalam_loc = malayalam_data[malayalam_data[\"Tag\"] == \"PLACE\"]\n",
    "malayalam_loc[\"Tag\"] = malayalam_loc[\"Tag\"].replace(\"PLACE\", \"Location\")\n",
    "malayalam_loc.columns = [\"Words\", \"Language\"]\n",
    "\n",
    "# Combining all the data needed for training\n",
    "tulu_data = pd.concat([tulu_data, tulu_mixed, kanada_loc, tulu_loc, tulu_mixed, kanada_name, tulu_other, tulu_mixed, tulu_name, tulu_loc, tulu_other, tulu_mixed, tulu_loc, tulu_name, tamil_loc, tulu_kan, tulu_other, malayalam_loc, tulu_mixed, tulu_other]).fillna(\"\")"
   ]
  },
  {
   "cell_type": "markdown",
   "metadata": {},
   "source": [
    "## Data Visualization"
   ]
  },
  {
   "cell_type": "code",
   "execution_count": 4,
   "metadata": {},
   "outputs": [
    {
     "data": {
      "text/plain": [
       "Language\n",
       "Tulu        12900\n",
       "English      8222\n",
       "Kannada      6446\n",
       "Name         6289\n",
       "sym          4665\n",
       "Other        3615\n",
       "Mixed        3600\n",
       "Location     2508\n",
       "Name: count, dtype: int64"
      ]
     },
     "execution_count": 4,
     "metadata": {},
     "output_type": "execute_result"
    }
   ],
   "source": [
    "tulu_data[\"Language\"].value_counts()"
   ]
  },
  {
   "cell_type": "code",
   "execution_count": 5,
   "metadata": {},
   "outputs": [
    {
     "data": {
      "text/html": [
       "<div>\n",
       "<style scoped>\n",
       "    .dataframe tbody tr th:only-of-type {\n",
       "        vertical-align: middle;\n",
       "    }\n",
       "\n",
       "    .dataframe tbody tr th {\n",
       "        vertical-align: top;\n",
       "    }\n",
       "\n",
       "    .dataframe thead th {\n",
       "        text-align: right;\n",
       "    }\n",
       "</style>\n",
       "<table border=\"1\" class=\"dataframe\">\n",
       "  <thead>\n",
       "    <tr style=\"text-align: right;\">\n",
       "      <th></th>\n",
       "      <th>Words</th>\n",
       "      <th>Language</th>\n",
       "    </tr>\n",
       "  </thead>\n",
       "  <tbody>\n",
       "    <tr>\n",
       "      <th>count</th>\n",
       "      <td>48245</td>\n",
       "      <td>48245</td>\n",
       "    </tr>\n",
       "    <tr>\n",
       "      <th>unique</th>\n",
       "      <td>11160</td>\n",
       "      <td>8</td>\n",
       "    </tr>\n",
       "    <tr>\n",
       "      <th>top</th>\n",
       "      <td>asterisk</td>\n",
       "      <td>Tulu</td>\n",
       "    </tr>\n",
       "    <tr>\n",
       "      <th>freq</th>\n",
       "      <td>4665</td>\n",
       "      <td>12900</td>\n",
       "    </tr>\n",
       "  </tbody>\n",
       "</table>\n",
       "</div>"
      ],
      "text/plain": [
       "           Words Language\n",
       "count      48245    48245\n",
       "unique     11160        8\n",
       "top     asterisk     Tulu\n",
       "freq        4665    12900"
      ]
     },
     "execution_count": 5,
     "metadata": {},
     "output_type": "execute_result"
    }
   ],
   "source": [
    "tulu_data.describe()"
   ]
  },
  {
   "cell_type": "code",
   "execution_count": 6,
   "metadata": {},
   "outputs": [
    {
     "data": {
      "text/plain": [
       "<Axes: xlabel='Language', ylabel='Count'>"
      ]
     },
     "execution_count": 6,
     "metadata": {},
     "output_type": "execute_result"
    },
    {
     "data": {
      "image/png": "[encoded data removed]",
      "text/plain": [
       "<Figure size 640x480 with 1 Axes>"
      ]
     },
     "metadata": {},
     "output_type": "display_data"
    }
   ],
   "source": [
    "sb.histplot(tulu_data[\"Language\"])"
   ]
  },
  {
   "cell_type": "markdown",
   "metadata": {},
   "source": [
    "## ML Model Analysis"
   ]
  },
  {
   "cell_type": "markdown",
   "metadata": {},
   "source": [
    "### Model and Vector Initialization"
   ]
  },
  {
   "cell_type": "code",
   "execution_count": 7,
   "metadata": {},
   "outputs": [],
   "source": [
    "# Using Character Level Count Vectorizer to extract features from each Word\n",
    "countVectorizer = CountVectorizer(ngram_range=(1,5), analyzer='char')\n",
    "\n",
    "# Used for analysis of each model\n",
    "kf = KFold(n_splits=10, shuffle=True, random_state=42)\n",
    "\n",
    "\n",
    "model1 = DecisionTreeClassifier(random_state=42)\n",
    "\n",
    "model2 = LogisticRegression(solver='newton-cg', max_iter=2000)\n",
    "\n",
    "model3 = svm.SVC()\n",
    "\n",
    "model7 = VotingClassifier(\n",
    "    estimators=[\n",
    "        ('dtc', model1), \n",
    "        ('lr', model2), \n",
    "        ('svm', model3),\n",
    "    ],\n",
    "    voting='hard'\n",
    ")\n",
    "\n",
    "\n",
    "acc = [[], [], []] \n",
    "f1 = [[], [], []]\n",
    "pre = [[], [], []]\n",
    "rec = [[], [], []]\n",
    "\n",
    "f1_a = [[], [], []]"
   ]
  },
  {
   "cell_type": "markdown",
   "metadata": {},
   "source": [
    "### Training of the Models"
   ]
  },
  {
   "cell_type": "code",
   "execution_count": 8,
   "metadata": {},
   "outputs": [],
   "source": [
    "X = tulu_data[\"Words\"]\n",
    "Y = tulu_data[\"Language\"]\n",
    "\n",
    "for train_index, test_index in kf.split(X):\n",
    "    # Segregating the train and test data for this iteration\n",
    "    X_train, X_test = X.iloc[train_index], X.iloc[test_index]\n",
    "    y_train, y_test = Y.iloc[train_index], Y.iloc[test_index]\n",
    "    \n",
    "    # Vectorizing the Word\n",
    "    train_vect_count = countVectorizer.fit_transform(X_train)\n",
    "    test_vect_count = countVectorizer.transform(X_test)\n",
    "\n",
    "    # DECISION TREE CLASSIFIER MODEL\n",
    "    model1.fit(train_vect_count, y_train)\n",
    "    model1_predict = model1.predict(test_vect_count)\n",
    "\n",
    "    acc[0].append(accuracy_score(y_test, model1_predict))\n",
    "    f1[0].append(f1_score(y_test, model1_predict, average='macro'))\n",
    "    f1_a[0].append(f1_score(y_test, model1_predict, average='weighted'))\n",
    "    pre[0].append(precision_score(y_test, model1_predict, average='macro', zero_division=np.nan))\n",
    "    rec[0].append(recall_score(y_test, model1_predict, average='macro', zero_division=np.nan))\n",
    "\n",
    "\n",
    "    # LOGISTIC REGRESSION MODEL\n",
    "    model2.fit(train_vect_count, y_train)\n",
    "    model2_predict = model2.predict(test_vect_count)\n",
    "\n",
    "    acc[1].append(accuracy_score(y_test, model2_predict))\n",
    "    f1[1].append(f1_score(y_test, model2_predict, average='macro'))\n",
    "    f1_a[1].append(f1_score(y_test, model2_predict, average='weighted'))\n",
    "    pre[1].append(precision_score(y_test, model2_predict, average=\"macro\", zero_division=np.nan))\n",
    "    rec[1].append(recall_score(y_test, model2_predict, average=\"macro\", zero_division=np.nan))\n",
    "\n",
    "    # SUPPORT VECTOR MACHINE MODEL\n",
    "    model3.fit(train_vect_count, y_train)\n",
    "    model3_predict = model3.predict(test_vect_count)\n",
    "\n",
    "    acc[2].append(accuracy_score(y_test, model3_predict))\n",
    "    f1[2].append(f1_score(y_test, model3_predict, average=\"macro\"))\n",
    "    f1_a[2].append(f1_score(y_test, model3_predict, average=\"weighted\"))\n",
    "    pre[2].append(precision_score(y_test, model3_predict, average=\"macro\", zero_division=np.nan))\n",
    "    rec[2].append(recall_score(y_test, model3_predict, average=\"macro\", zero_division=np.nan))"
   ]
  },
  {
   "cell_type": "markdown",
   "metadata": {},
   "source": [
    "### Score Analysis of each Model"
   ]
  },
  {
   "cell_type": "code",
   "execution_count": 9,
   "metadata": {},
   "outputs": [
    {
     "data": {
      "text/html": [
       "<table>\n",
       "    <thead>\n",
       "        <tr>\n",
       "            <th>Model Name</th>\n",
       "            <th>Accuracy</th>\n",
       "            <th>F1 Score (Macro)</th>\n",
       "            <th>F1 Score (Weighted)</th>\n",
       "            <th>Precision</th>\n",
       "            <th>Recall Score</th>\n",
       "        </tr>\n",
       "    </thead>\n",
       "    <tbody>\n",
       "        <tr>\n",
       "            <td>Decision Tree Classifier</td>\n",
       "            <td>0.922167878225453</td>\n",
       "            <td>0.9321242867445683</td>\n",
       "            <td>0.9220807650773339</td>\n",
       "            <td>0.9244014297800882</td>\n",
       "            <td>0.9410410289215889</td>\n",
       "        </tr>\n",
       "        <tr>\n",
       "            <td>Logistic Regression</td>\n",
       "            <td>0.9301895530980675</td>\n",
       "            <td>0.9381025775792059</td>\n",
       "            <td>0.9301191476645453</td>\n",
       "            <td>0.9353032977997987</td>\n",
       "            <td>0.9411793831648447</td>\n",
       "        </tr>\n",
       "        <tr>\n",
       "            <td>Support Vector Machine</td>\n",
       "            <td>0.9161155406044046</td>\n",
       "            <td>0.9256869520842594</td>\n",
       "            <td>0.9159882681623005</td>\n",
       "            <td>0.929596383423215</td>\n",
       "            <td>0.9223231629477698</td>\n",
       "        </tr>\n",
       "    </tbody>\n",
       "</table>"
      ],
      "text/plain": [
       "+--------------------------+--------------------+--------------------+---------------------+--------------------+--------------------+\n",
       "|        Model Name        |      Accuracy      |  F1 Score (Macro)  | F1 Score (Weighted) |     Precision      |    Recall Score    |\n",
       "+--------------------------+--------------------+--------------------+---------------------+--------------------+--------------------+\n",
       "| Decision Tree Classifier | 0.922167878225453  | 0.9321242867445683 |  0.9220807650773339 | 0.9244014297800882 | 0.9410410289215889 |\n",
       "|   Logistic Regression    | 0.9301895530980675 | 0.9381025775792059 |  0.9301191476645453 | 0.9353032977997987 | 0.9411793831648447 |\n",
       "|  Support Vector Machine  | 0.9161155406044046 | 0.9256869520842594 |  0.9159882681623005 | 0.929596383423215  | 0.9223231629477698 |\n",
       "+--------------------------+--------------------+--------------------+---------------------+--------------------+--------------------+"
      ]
     },
     "execution_count": 9,
     "metadata": {},
     "output_type": "execute_result"
    }
   ],
   "source": [
    "DTC = [\"Decision Tree Classifier\",sum(acc[0])/len(acc[0]), sum(f1[0])/len(f1[0]), sum(f1_a[0])/len(f1_a[0]),sum(pre[0])/len(pre[0]), sum(rec[0])/len(rec[0])]\n",
    "Logistic = [\"Logistic Regression\", sum(acc[1])/len(acc[1]), sum(f1[1])/len(f1[1]), sum(f1_a[1])/len(f1_a[1]), sum(pre[1])/len(pre[1]), sum(rec[1])/len(rec[1])]\n",
    "SVM = [\"Support Vector Machine\",sum(acc[2])/len(acc[2]), sum(f1[2])/len(f1[2]), sum(f1_a[2])/len(f1_a[2]), sum(pre[2])/len(pre[2]), sum(rec[2])/len(rec[2])]\n",
    "\n",
    "fields = [\"Model Name\", \"Accuracy\", \"F1 Score (Macro)\", \"F1 Score (Weighted)\", \"Precision\", \"Recall Score\"]\n",
    "\n",
    "table = PrettyTable(field_names=fields)\n",
    "table.add_rows([DTC, Logistic, SVM])\n",
    "table"
   ]
  },
  {
   "cell_type": "markdown",
   "metadata": {},
   "source": [
    "## Model Training and Prediction"
   ]
  },
  {
   "cell_type": "code",
   "execution_count": 10,
   "metadata": {},
   "outputs": [],
   "source": [
    "# Initializing the Training and Test data\n",
    "x_train = tulu_data[\"Words\"]\n",
    "y_train = tulu_data[\"Language\"]\n",
    "final_test = pd.read_csv(\"Test/Tulu_Test_Set_No_Labels.csv\")\n",
    "x_test = final_test[\"Word\"].replace(\".\", \"asterisk\").fillna(\"\")\n",
    "\n",
    "# Vectorizing the Words\n",
    "count_vec_train = countVectorizer.fit_transform(x_train)\n",
    "count_vec_test = countVectorizer.transform(x_test)\n",
    "\n",
    "# Fitting the Training Data in the Model\n",
    "model7.fit(count_vec_train, y_train)\n",
    "\n",
    "# Predicting the Test Data\n",
    "pred = model7.predict(count_vec_test)\n",
    "\n",
    "# Converting the Predictions back to CSV file\n",
    "result = pd.concat([final_test.reset_index(drop=True), pd.Series(pred, name=\"Tag\")], axis=1)\n",
    "result.to_csv('Predictions/predictions_tul.csv', index=False)"
   ]
  },
  {
   "cell_type": "markdown",
   "metadata": {},
   "source": [
    "## Overview of Prediction"
   ]
  },
  {
   "cell_type": "code",
   "execution_count": 11,
   "metadata": {},
   "outputs": [
    {
     "data": {
      "text/plain": [
       "Tag\n",
       "Tulu        1315\n",
       "English      801\n",
       "sym          465\n",
       "Kannada      382\n",
       "Name         156\n",
       "Other         64\n",
       "Location      59\n",
       "Mixed         41\n",
       "Name: count, dtype: int64"
      ]
     },
     "execution_count": 11,
     "metadata": {},
     "output_type": "execute_result"
    }
   ],
   "source": [
    "ans = pd.read_csv(\"Predictions/predictions_tul.csv\")\n",
    "ans[\"Tag\"].value_counts()"
   ]
  },
  {
   "cell_type": "markdown",
   "metadata": {},
   "source": [
    "# **MALAYALAM WORD-LEVEL TEXT CLASSIFICATION**"
   ]
  },
  {
   "cell_type": "markdown",
   "metadata": {},
   "source": [
    "## Importing the Requirements"
   ]
  },
  {
   "cell_type": "code",
   "execution_count": 12,
   "metadata": {},
   "outputs": [],
   "source": [
    "# For Data Analysis and Manipulation\n",
    "import pandas as pd\n",
    "import numpy as np\n",
    "\n",
    "# For Data Visualization\n",
    "import matplotlib.pyplot as plt\n",
    "import seaborn as sb\n",
    "from prettytable import PrettyTable\n",
    "\n",
    "# For number to word conversion (Separate category in Malayalam data alone)\n",
    "import inflect\n",
    "import re\n",
    "from word2number import w2n\n",
    "\n",
    "# For Model Building\n",
    "from sklearn.model_selection import KFold\n",
    "from sklearn.linear_model import LogisticRegression\n",
    "from sklearn import svm\n",
    "from sklearn.tree import DecisionTreeClassifier\n",
    "from sklearn.feature_extraction.text import CountVectorizer\n",
    "from sklearn.ensemble import VotingClassifier\n",
    "\n",
    "# For Analyzing Model's performance\n",
    "from sklearn.metrics import accuracy_score, \\\n",
    "                            f1_score, \\\n",
    "                            classification_report, \\\n",
    "                            precision_score, \\\n",
    "                            recall_score"
   ]
  },
  {
   "cell_type": "markdown",
   "metadata": {},
   "source": [
    "## Data Collection"
   ]
  },
  {
   "cell_type": "markdown",
   "metadata": {},
   "source": [
    "### Reading all the Given Data"
   ]
  },
  {
   "cell_type": "code",
   "execution_count": 13,
   "metadata": {},
   "outputs": [],
   "source": [
    "kanada_data = pd.read_csv(\"Train/kn_train.csv\")\n",
    "kanada_val = pd.read_csv(\"Validation/kn_val.csv\")\n",
    "kanada_data = pd.concat([kanada_data, kanada_val], axis=0)\n",
    "\n",
    "tamil_data = pd.read_csv(\"Train/tamil_train.csv\")\n",
    "tamil_val = pd.read_csv(\"Validation/tamil_val.csv\")\n",
    "tamil_data = pd.concat([tamil_data, tamil_val], axis=0)\n",
    "\n",
    "tulu_data = pd.read_csv(\"Train/tulu_train.csv\")\n",
    "tulu_val = pd.read_csv(\"Validation/tulu_val.csv\")\n",
    "tulu_data = pd.concat([tulu_data, tulu_val], axis=0)\n",
    "\n",
    "malayalam_data = pd.read_csv(\"Train/mal_train.csv\")\n",
    "malayalam_val = pd.read_csv(\"Validation/mal_val.csv\")\n",
    "malayalam_data = pd.concat([malayalam_data, malayalam_val], axis=0)"
   ]
  },
  {
   "cell_type": "markdown",
   "metadata": {},
   "source": [
    "### Oversampling for Specific Categories"
   ]
  },
  {
   "cell_type": "code",
   "execution_count": 14,
   "metadata": {},
   "outputs": [
    {
     "name": "stderr",
     "output_type": "stream",
     "text": [
      "C:\\Users\\justa\\AppData\\Local\\Temp\\ipykernel_9468\\1093124531.py:12: SettingWithCopyWarning: \n",
      "A value is trying to be set on a copy of a slice from a DataFrame.\n",
      "Try using .loc[row_indexer,col_indexer] = value instead\n",
      "\n",
      "See the caveats in the documentation: https://pandas.pydata.org/pandas-docs/stable/user_guide/indexing.html#returning-a-view-versus-a-copy\n",
      "  tamil_name[\"Tag\"] = tamil_name[\"Tag\"].replace(\"name\", \"NAME\")\n",
      "C:\\Users\\justa\\AppData\\Local\\Temp\\ipykernel_9468\\1093124531.py:14: SettingWithCopyWarning: \n",
      "A value is trying to be set on a copy of a slice from a DataFrame.\n",
      "Try using .loc[row_indexer,col_indexer] = value instead\n",
      "\n",
      "See the caveats in the documentation: https://pandas.pydata.org/pandas-docs/stable/user_guide/indexing.html#returning-a-view-versus-a-copy\n",
      "  kanada_name[\"Tag\"] = kanada_name[\"Tag\"].replace(\"name\", \"NAME\")\n",
      "C:\\Users\\justa\\AppData\\Local\\Temp\\ipykernel_9468\\1093124531.py:17: SettingWithCopyWarning: \n",
      "A value is trying to be set on a copy of a slice from a DataFrame.\n",
      "Try using .loc[row_indexer,col_indexer] = value instead\n",
      "\n",
      "See the caveats in the documentation: https://pandas.pydata.org/pandas-docs/stable/user_guide/indexing.html#returning-a-view-versus-a-copy\n",
      "  tulu_name[\"Tag\"] = tulu_name[\"Tag\"].replace(\"Name\", \"NAME\")\n",
      "C:\\Users\\justa\\AppData\\Local\\Temp\\ipykernel_9468\\1093124531.py:22: SettingWithCopyWarning: \n",
      "A value is trying to be set on a copy of a slice from a DataFrame.\n",
      "Try using .loc[row_indexer,col_indexer] = value instead\n",
      "\n",
      "See the caveats in the documentation: https://pandas.pydata.org/pandas-docs/stable/user_guide/indexing.html#returning-a-view-versus-a-copy\n",
      "  tamil_loc[\"Tag\"] = tamil_loc[\"Tag\"].replace(\"Location\", \"PLACE\")\n",
      "C:\\Users\\justa\\AppData\\Local\\Temp\\ipykernel_9468\\1093124531.py:24: SettingWithCopyWarning: \n",
      "A value is trying to be set on a copy of a slice from a DataFrame.\n",
      "Try using .loc[row_indexer,col_indexer] = value instead\n",
      "\n",
      "See the caveats in the documentation: https://pandas.pydata.org/pandas-docs/stable/user_guide/indexing.html#returning-a-view-versus-a-copy\n",
      "  kanada_loc[\"Tag\"] = kanada_loc[\"Tag\"].replace(\"location\", \"PLACE\")\n",
      "C:\\Users\\justa\\AppData\\Local\\Temp\\ipykernel_9468\\1093124531.py:27: SettingWithCopyWarning: \n",
      "A value is trying to be set on a copy of a slice from a DataFrame.\n",
      "Try using .loc[row_indexer,col_indexer] = value instead\n",
      "\n",
      "See the caveats in the documentation: https://pandas.pydata.org/pandas-docs/stable/user_guide/indexing.html#returning-a-view-versus-a-copy\n",
      "  tulu_loc[\"Tag\"] = tulu_loc[\"Tag\"].replace(\"Location\", \"PLACE\")\n"
     ]
    }
   ],
   "source": [
    "# Removing unnecessary data and converting Symbols to Words for Better Vectorization\n",
    "malayalam_data = malayalam_data[~(~(malayalam_data[\"Word\"].isin([\".\", \"•\"])) & (malayalam_data[\"Tag\"] == \"SYM\"))].replace(\".\", \"asterisk\").replace(\"•\", \"asterisks\").fillna(\"\")\n",
    "\n",
    "# Oversampling \"mixed\", \"other\", \"number\" and \"en\" categories to improve their accuracy\n",
    "malayalam_mixed = malayalam_data[malayalam_data[\"Tag\"] == \"MIXED\"]\n",
    "malayalam_other = malayalam_data[malayalam_data[\"Tag\"] == \"OTHER\"]\n",
    "malayalam_number = malayalam_data[malayalam_data[\"Tag\"] == \"NUMBER\"]\n",
    "malayalam_eng = malayalam_data[malayalam_data[\"Tag\"] == \"ENGLISH\"]\n",
    "\n",
    "# Names from other languages are also included (More the data, Better the performance)\n",
    "tamil_name = tamil_data[tamil_data[\"Tag\"] == \"name\"]\n",
    "tamil_name[\"Tag\"] = tamil_name[\"Tag\"].replace(\"name\", \"NAME\")\n",
    "kanada_name = kanada_data[kanada_data[\"Tag\"] == \"name\"]\n",
    "kanada_name[\"Tag\"] = kanada_name[\"Tag\"].replace(\"name\", \"NAME\")\n",
    "tulu_name = tulu_data[tulu_data[\"Language\"] == \"Name\"]\n",
    "tulu_name.columns = [\"Word\", \"Tag\"]\n",
    "tulu_name[\"Tag\"] = tulu_name[\"Tag\"].replace(\"Name\", \"NAME\")\n",
    "malayalam_name = malayalam_data[malayalam_data[\"Tag\"] == \"NAME\"]\n",
    "\n",
    "# Locations from other languages are also included\n",
    "tamil_loc = tamil_data[tamil_data[\"Tag\"] == \"Location\"]\n",
    "tamil_loc[\"Tag\"] = tamil_loc[\"Tag\"].replace(\"Location\", \"PLACE\")\n",
    "kanada_loc = kanada_data[kanada_data[\"Tag\"] == \"location\"]\n",
    "kanada_loc[\"Tag\"] = kanada_loc[\"Tag\"].replace(\"location\", \"PLACE\")\n",
    "tulu_loc = tulu_data[tulu_data[\"Language\"] == \"Location\"]\n",
    "tulu_loc.columns = [\"Word\", \"Tag\"]\n",
    "tulu_loc[\"Tag\"] = tulu_loc[\"Tag\"].replace(\"Location\", \"PLACE\")\n",
    "malayalam_loc = malayalam_data[malayalam_data[\"Tag\"] == \"PLACE\"]\n",
    "\n",
    "# Code to convert Number to Words for Vectorization of the Texts\n",
    "p = inflect.engine()\n",
    "\n",
    "def number_to_words(text):\n",
    "    # Regular expression to find all numbers in the text\n",
    "    pattern = re.compile(r'(\\d+)')\n",
    "    \n",
    "    def replace_func(match):\n",
    "        number = match.group(1)\n",
    "        number_in_words = p.number_to_words(number)\n",
    "        return f\"_{number_in_words.replace(' ', '_')}_\"\n",
    "    \n",
    "    return pattern.sub(replace_func, text)\n",
    "\n",
    "\n",
    "# Combining all the data needed for training\n",
    "malayalam_data = pd.concat([malayalam_data, malayalam_mixed, kanada_loc, malayalam_eng, malayalam_other, kanada_name, tulu_name, malayalam_number, malayalam_mixed,tamil_name, malayalam_mixed, tulu_loc, malayalam_other, tamil_loc, malayalam_loc, malayalam_mixed, malayalam_name]).fillna(\"\")\n",
    "malayalam_data[\"Word\"] = malayalam_data[\"Word\"].apply(number_to_words)"
   ]
  },
  {
   "cell_type": "markdown",
   "metadata": {},
   "source": [
    "## Data Visualization"
   ]
  },
  {
   "cell_type": "code",
   "execution_count": 15,
   "metadata": {},
   "outputs": [
    {
     "data": {
      "text/plain": [
       "Tag\n",
       "MALAYALAM    12408\n",
       "ENGLISH      12060\n",
       "NAME          8546\n",
       "OTHER         6861\n",
       "MIXED         4125\n",
       "SYM           3063\n",
       "NUMBER        1290\n",
       "PLACE          951\n",
       "Name: count, dtype: int64"
      ]
     },
     "execution_count": 15,
     "metadata": {},
     "output_type": "execute_result"
    }
   ],
   "source": [
    "malayalam_data[\"Tag\"].value_counts()"
   ]
  },
  {
   "cell_type": "code",
   "execution_count": 16,
   "metadata": {},
   "outputs": [
    {
     "data": {
      "text/html": [
       "<div>\n",
       "<style scoped>\n",
       "    .dataframe tbody tr th:only-of-type {\n",
       "        vertical-align: middle;\n",
       "    }\n",
       "\n",
       "    .dataframe tbody tr th {\n",
       "        vertical-align: top;\n",
       "    }\n",
       "\n",
       "    .dataframe thead th {\n",
       "        text-align: right;\n",
       "    }\n",
       "</style>\n",
       "<table border=\"1\" class=\"dataframe\">\n",
       "  <thead>\n",
       "    <tr style=\"text-align: right;\">\n",
       "      <th></th>\n",
       "      <th>Word</th>\n",
       "      <th>Tag</th>\n",
       "    </tr>\n",
       "  </thead>\n",
       "  <tbody>\n",
       "    <tr>\n",
       "      <th>count</th>\n",
       "      <td>49304</td>\n",
       "      <td>49304</td>\n",
       "    </tr>\n",
       "    <tr>\n",
       "      <th>unique</th>\n",
       "      <td>12396</td>\n",
       "      <td>8</td>\n",
       "    </tr>\n",
       "    <tr>\n",
       "      <th>top</th>\n",
       "      <td>asterisk</td>\n",
       "      <td>MALAYALAM</td>\n",
       "    </tr>\n",
       "    <tr>\n",
       "      <th>freq</th>\n",
       "      <td>3079</td>\n",
       "      <td>12408</td>\n",
       "    </tr>\n",
       "  </tbody>\n",
       "</table>\n",
       "</div>"
      ],
      "text/plain": [
       "            Word        Tag\n",
       "count      49304      49304\n",
       "unique     12396          8\n",
       "top     asterisk  MALAYALAM\n",
       "freq        3079      12408"
      ]
     },
     "execution_count": 16,
     "metadata": {},
     "output_type": "execute_result"
    }
   ],
   "source": [
    "malayalam_data.describe()"
   ]
  },
  {
   "cell_type": "code",
   "execution_count": 17,
   "metadata": {},
   "outputs": [
    {
     "data": {
      "text/plain": [
       "<Axes: xlabel='Tag', ylabel='Count'>"
      ]
     },
     "execution_count": 17,
     "metadata": {},
     "output_type": "execute_result"
    },
    {
     "data": {
      "image/png": "[encoded data removed]",
      "text/plain": [
       "<Figure size 640x480 with 1 Axes>"
      ]
     },
     "metadata": {},
     "output_type": "display_data"
    }
   ],
   "source": [
    "sb.histplot(malayalam_data[\"Tag\"])"
   ]
  },
  {
   "cell_type": "markdown",
   "metadata": {},
   "source": [
    "## ML Model Analysis"
   ]
  },
  {
   "cell_type": "markdown",
   "metadata": {},
   "source": [
    "### Model and Vector Initialization"
   ]
  },
  {
   "cell_type": "code",
   "execution_count": 18,
   "metadata": {},
   "outputs": [],
   "source": [
    "# Using Character Level Count Vectorizer to extract features from each Word\n",
    "countVectorizer = CountVectorizer(ngram_range=(1,5), analyzer='char')\n",
    "\n",
    "# Used for analysis of each model\n",
    "kf = KFold(n_splits=10, shuffle=True, random_state=42)\n",
    "\n",
    "\n",
    "model1 = DecisionTreeClassifier(random_state=42)\n",
    "\n",
    "model2 = LogisticRegression(solver='newton-cg', max_iter=2000)\n",
    "\n",
    "model3 = svm.SVC()\n",
    "\n",
    "model7 = VotingClassifier(\n",
    "    estimators=[\n",
    "        ('dtc', model1), \n",
    "        ('lr', model2), \n",
    "        ('svm', model3),\n",
    "    ],\n",
    "    voting='hard'\n",
    ")\n",
    "\n",
    "\n",
    "acc = [[], [], []] \n",
    "f1 = [[], [], []]\n",
    "pre = [[], [], []]\n",
    "rec = [[], [], []]\n",
    "\n",
    "f1_a = [[], [], []]"
   ]
  },
  {
   "cell_type": "markdown",
   "metadata": {},
   "source": [
    "### Training of the Models"
   ]
  },
  {
   "cell_type": "code",
   "execution_count": 19,
   "metadata": {},
   "outputs": [],
   "source": [
    "# X,Y of the Training data\n",
    "X = malayalam_data[\"Word\"]\n",
    "Y = malayalam_data[\"Tag\"]\n",
    "\n",
    "\n",
    "for train_index, test_index in kf.split(X):\n",
    "    # Segregating the train and test data for this iteration\n",
    "    X_train, X_test = X.iloc[train_index], X.iloc[test_index]\n",
    "    y_train, y_test = Y.iloc[train_index], Y.iloc[test_index]\n",
    "    \n",
    "    # Vectorizing the Word\n",
    "    train_vect_count = countVectorizer.fit_transform(X_train)\n",
    "    test_vect_count = countVectorizer.transform(X_test)\n",
    "\n",
    "    # DECISION TREE CLASSIFIER MODEL\n",
    "    model1.fit(train_vect_count, y_train)\n",
    "    model1_predict = model1.predict(test_vect_count)\n",
    "\n",
    "    acc[0].append(accuracy_score(y_test, model1_predict))\n",
    "    f1[0].append(f1_score(y_test, model1_predict, average='macro'))\n",
    "    f1_a[0].append(f1_score(y_test, model1_predict, average='weighted'))\n",
    "    pre[0].append(precision_score(y_test, model1_predict, average='macro', zero_division=np.nan))\n",
    "    rec[0].append(recall_score(y_test, model1_predict, average='macro', zero_division=np.nan))\n",
    "\n",
    "\n",
    "    # LOGISTIC REGRESSION MODEL\n",
    "    model2.fit(train_vect_count, y_train)\n",
    "    model2_predict = model2.predict(test_vect_count)\n",
    "\n",
    "    acc[1].append(accuracy_score(y_test, model2_predict))\n",
    "    f1[1].append(f1_score(y_test, model2_predict, average='macro'))\n",
    "    f1_a[1].append(f1_score(y_test, model2_predict, average='weighted'))\n",
    "    pre[1].append(precision_score(y_test, model2_predict, average=\"macro\", zero_division=np.nan))\n",
    "    rec[1].append(recall_score(y_test, model2_predict, average=\"macro\", zero_division=np.nan))\n",
    "\n",
    "    # SUPPORT VECTOR MACHINE MODEL\n",
    "    model3.fit(train_vect_count, y_train)\n",
    "    model3_predict = model3.predict(test_vect_count)\n",
    "\n",
    "    acc[2].append(accuracy_score(y_test, model3_predict))\n",
    "    f1[2].append(f1_score(y_test, model3_predict, average=\"macro\"))\n",
    "    f1_a[2].append(f1_score(y_test, model3_predict, average=\"weighted\"))\n",
    "    pre[2].append(precision_score(y_test, model3_predict, average=\"macro\", zero_division=np.nan))\n",
    "    rec[2].append(recall_score(y_test, model3_predict, average=\"macro\", zero_division=np.nan))"
   ]
  },
  {
   "cell_type": "markdown",
   "metadata": {},
   "source": [
    "### Score Analysis of each Model"
   ]
  },
  {
   "cell_type": "code",
   "execution_count": 20,
   "metadata": {},
   "outputs": [
    {
     "data": {
      "text/html": [
       "<table>\n",
       "    <thead>\n",
       "        <tr>\n",
       "            <th>Model Name</th>\n",
       "            <th>Accuracy</th>\n",
       "            <th>F1 Score (Macro)</th>\n",
       "            <th>F1 Score (Weighted)</th>\n",
       "            <th>Precision</th>\n",
       "            <th>Recall Score</th>\n",
       "        </tr>\n",
       "    </thead>\n",
       "    <tbody>\n",
       "        <tr>\n",
       "            <td>Decision Tree Classifier</td>\n",
       "            <td>0.9360904416032527</td>\n",
       "            <td>0.9395723374704108</td>\n",
       "            <td>0.9360988967340995</td>\n",
       "            <td>0.9382275780531769</td>\n",
       "            <td>0.9415417831912208</td>\n",
       "        </tr>\n",
       "        <tr>\n",
       "            <td>Logistic Regression</td>\n",
       "            <td>0.943919319880065</td>\n",
       "            <td>0.9473658787143349</td>\n",
       "            <td>0.9439233455698206</td>\n",
       "            <td>0.950043700392626</td>\n",
       "            <td>0.9450646970175027</td>\n",
       "        </tr>\n",
       "        <tr>\n",
       "            <td>Support Vector Machine</td>\n",
       "            <td>0.9278962831085202</td>\n",
       "            <td>0.9302190432513899</td>\n",
       "            <td>0.927610463770282</td>\n",
       "            <td>0.9398823599006123</td>\n",
       "            <td>0.9221403371609579</td>\n",
       "        </tr>\n",
       "    </tbody>\n",
       "</table>"
      ],
      "text/plain": [
       "+--------------------------+--------------------+--------------------+---------------------+--------------------+--------------------+\n",
       "|        Model Name        |      Accuracy      |  F1 Score (Macro)  | F1 Score (Weighted) |     Precision      |    Recall Score    |\n",
       "+--------------------------+--------------------+--------------------+---------------------+--------------------+--------------------+\n",
       "| Decision Tree Classifier | 0.9360904416032527 | 0.9395723374704108 |  0.9360988967340995 | 0.9382275780531769 | 0.9415417831912208 |\n",
       "|   Logistic Regression    | 0.943919319880065  | 0.9473658787143349 |  0.9439233455698206 | 0.950043700392626  | 0.9450646970175027 |\n",
       "|  Support Vector Machine  | 0.9278962831085202 | 0.9302190432513899 |  0.927610463770282  | 0.9398823599006123 | 0.9221403371609579 |\n",
       "+--------------------------+--------------------+--------------------+---------------------+--------------------+--------------------+"
      ]
     },
     "execution_count": 20,
     "metadata": {},
     "output_type": "execute_result"
    }
   ],
   "source": [
    "DTC = [\"Decision Tree Classifier\",sum(acc[0])/len(acc[0]), sum(f1[0])/len(f1[0]), sum(f1_a[0])/len(f1_a[0]),sum(pre[0])/len(pre[0]), sum(rec[0])/len(rec[0])]\n",
    "LR = [\"Logistic Regression\", sum(acc[1])/len(acc[1]), sum(f1[1])/len(f1[1]), sum(f1_a[1])/len(f1_a[1]), sum(pre[1])/len(pre[1]), sum(rec[1])/len(rec[1])]\n",
    "SVM = [\"Support Vector Machine\",sum(acc[2])/len(acc[2]), sum(f1[2])/len(f1[2]), sum(f1_a[2])/len(f1_a[2]), sum(pre[2])/len(pre[2]), sum(rec[2])/len(rec[2])]\n",
    "\n",
    "fields = [\"Model Name\", \"Accuracy\", \"F1 Score (Macro)\", \"F1 Score (Weighted)\", \"Precision\", \"Recall Score\"]\n",
    "\n",
    "table = PrettyTable(field_names=fields)\n",
    "table.add_rows([DTC, LR, SVM])\n",
    "table"
   ]
  },
  {
   "cell_type": "markdown",
   "metadata": {},
   "source": [
    "## Model Training and Prediction"
   ]
  },
  {
   "cell_type": "code",
   "execution_count": 21,
   "metadata": {},
   "outputs": [],
   "source": [
    "x_train = malayalam_data[\"Word\"]\n",
    "y_train = malayalam_data[\"Tag\"]\n",
    "final_test = pd.read_csv(\"Test/Malayalam_Test_Set_No_Labels.csv\")\n",
    "x_test = final_test[\"Word\"].replace(\".\", \"asterisk\").fillna(\"\").apply(number_to_words)\n",
    "\n",
    "count_vec_train = countVectorizer.fit_transform(x_train)\n",
    "count_vec_test = countVectorizer.transform(x_test)\n",
    "\n",
    "model7.fit(count_vec_train, y_train)\n",
    "pred = model7.predict(count_vec_test)\n",
    "\n",
    "result = pd.concat([final_test.reset_index(drop=True), pd.Series(pred, name=\"Tag\")], axis=1)\n",
    "result.to_csv('Predictions/predictions_mal.csv', index=False)"
   ]
  },
  {
   "cell_type": "markdown",
   "metadata": {},
   "source": [
    "## Overview of Prediction"
   ]
  },
  {
   "cell_type": "code",
   "execution_count": 22,
   "metadata": {},
   "outputs": [
    {
     "data": {
      "text/plain": [
       "Tag\n",
       "MALAYALAM    1158\n",
       "ENGLISH       557\n",
       "SYM           289\n",
       "NAME          212\n",
       "OTHER         162\n",
       "MIXED          62\n",
       "NUMBER         50\n",
       "PLACE          11\n",
       "Name: count, dtype: int64"
      ]
     },
     "execution_count": 22,
     "metadata": {},
     "output_type": "execute_result"
    }
   ],
   "source": [
    "ans = pd.read_csv(\"Predictions/predictions_mal.csv\")\n",
    "ans[\"Tag\"].value_counts()"
   ]
  }
 ],
 "metadata": {
  "kernelspec": {
   "display_name": ".venv",
   "language": "python",
   "name": "python3"
  },
  "language_info": {
   "codemirror_mode": {
    "name": "ipython",
    "version": 3
   },
   "file_extension": ".py",
   "mimetype": "text/x-python",
   "name": "python",
   "nbconvert_exporter": "python",
   "pygments_lexer": "ipython3",
   "version": "3.12.1"
  }
 },
 "nbformat": 4,
 "nbformat_minor": 2
}
