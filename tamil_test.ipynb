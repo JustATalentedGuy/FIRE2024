{
 "cells": [
  {
   "cell_type": "markdown",
   "metadata": {},
   "source": [
    "# **TAMIL WORD-LEVEL TEXT CLASSIFICATION**"
   ]
  },
  {
   "cell_type": "markdown",
   "metadata": {},
   "source": [
    "## Importing the requirements"
   ]
  },
  {
   "cell_type": "code",
   "execution_count": 8,
   "metadata": {},
   "outputs": [],
   "source": [
    "# For Data Analysis and Manipulation\n",
    "import pandas as pd\n",
    "import numpy as np\n",
    "\n",
    "# For Data Visualization\n",
    "import matplotlib.pyplot as plt\n",
    "import seaborn as sb\n",
    "from prettytable import PrettyTable\n",
    "\n",
    "# For Model Building\n",
    "from sklearn.model_selection import KFold\n",
    "from sklearn.linear_model import LogisticRegression\n",
    "from sklearn import svm\n",
    "from sklearn.tree import DecisionTreeClassifier\n",
    "from sklearn.feature_extraction.text import CountVectorizer\n",
    "from sklearn.ensemble import VotingClassifier\n",
    "\n",
    "# For Analyzing Model's performance\n",
    "from sklearn.metrics import accuracy_score, \\\n",
    "                            f1_score, \\\n",
    "                            classification_report, \\\n",
    "                            precision_score, \\\n",
    "                            recall_score"
   ]
  },
  {
   "cell_type": "markdown",
   "metadata": {},
   "source": [
    "## Data Collection"
   ]
  },
  {
   "cell_type": "markdown",
   "metadata": {},
   "source": [
    "### Reading all the given data"
   ]
  },
  {
   "cell_type": "code",
   "execution_count": 9,
   "metadata": {},
   "outputs": [],
   "source": [
    "kanada_data = pd.read_csv(\"kn_train.csv\")\n",
    "kanada_val = pd.read_csv(\"kn_val.csv\")\n",
    "kanada_data = pd.concat([kanada_data, kanada_val], axis=0)\n",
    "\n",
    "tamil_data = pd.read_csv(\"tamil_train.csv\")\n",
    "tamil_val = pd.read_csv(\"tamil_val.csv\")\n",
    "tamil_data = pd.concat([tamil_data, tamil_val], axis=0)\n",
    "\n",
    "tulu_data = pd.read_csv(\"tulu_train.csv\")\n",
    "tulu_val = pd.read_csv(\"tulu_val.csv\")\n",
    "tulu_data = pd.concat([tulu_data, tulu_val], axis=0)\n",
    "\n",
    "malayalam_data = pd.read_csv(\"mal_train.csv\")\n",
    "malayalam_val = pd.read_csv(\"mal_val.csv\")\n",
    "malayalam_data = pd.concat([malayalam_data, malayalam_val], axis=0)"
   ]
  },
  {
   "cell_type": "markdown",
   "metadata": {},
   "source": [
    "### Removing unwanted data and Oversampling for specific categories"
   ]
  },
  {
   "cell_type": "code",
   "execution_count": 10,
   "metadata": {},
   "outputs": [
    {
     "name": "stderr",
     "output_type": "stream",
     "text": [
      "C:\\Users\\justa\\AppData\\Local\\Temp\\ipykernel_9432\\53615739.py:14: SettingWithCopyWarning: \n",
      "A value is trying to be set on a copy of a slice from a DataFrame.\n",
      "Try using .loc[row_indexer,col_indexer] = value instead\n",
      "\n",
      "See the caveats in the documentation: https://pandas.pydata.org/pandas-docs/stable/user_guide/indexing.html#returning-a-view-versus-a-copy\n",
      "  tulu_name[\"Tag\"] = tulu_name[\"Tag\"].replace(\"Name\", \"name\")\n",
      "C:\\Users\\justa\\AppData\\Local\\Temp\\ipykernel_9432\\53615739.py:16: SettingWithCopyWarning: \n",
      "A value is trying to be set on a copy of a slice from a DataFrame.\n",
      "Try using .loc[row_indexer,col_indexer] = value instead\n",
      "\n",
      "See the caveats in the documentation: https://pandas.pydata.org/pandas-docs/stable/user_guide/indexing.html#returning-a-view-versus-a-copy\n",
      "  malayalam_name[\"Tag\"] = malayalam_name[\"Tag\"].replace(\"NAME\", \"name\")\n",
      "C:\\Users\\justa\\AppData\\Local\\Temp\\ipykernel_9432\\53615739.py:21: SettingWithCopyWarning: \n",
      "A value is trying to be set on a copy of a slice from a DataFrame.\n",
      "Try using .loc[row_indexer,col_indexer] = value instead\n",
      "\n",
      "See the caveats in the documentation: https://pandas.pydata.org/pandas-docs/stable/user_guide/indexing.html#returning-a-view-versus-a-copy\n",
      "  kanada_loc[\"Tag\"] = kanada_loc[\"Tag\"].replace(\"location\", \"Location\")\n",
      "C:\\Users\\justa\\AppData\\Local\\Temp\\ipykernel_9432\\53615739.py:25: SettingWithCopyWarning: \n",
      "A value is trying to be set on a copy of a slice from a DataFrame.\n",
      "Try using .loc[row_indexer,col_indexer] = value instead\n",
      "\n",
      "See the caveats in the documentation: https://pandas.pydata.org/pandas-docs/stable/user_guide/indexing.html#returning-a-view-versus-a-copy\n",
      "  malayalam_loc[\"Tag\"] = malayalam_loc[\"Tag\"].replace(\"PLACE\", \"Location\")\n"
     ]
    }
   ],
   "source": [
    "# Few wrong data in the \"sym\" category\n",
    "tamil_data = tamil_data[~((tamil_data[\"Tag\"] == \"sym\") & (tamil_data[\"Word\"] != \"*\"))].replace(\"*\", \"asterisk\").fillna(\"\")\n",
    "\n",
    "# Oversampling \"en\", \"other\", \"mixed\" categories to improve accuracy of those categories\n",
    "tamil_en = tamil_data[tamil_data[\"Tag\"] == \"en\"]\n",
    "tamil_other = tamil_data[tamil_data[\"Tag\"] == \"Other\"]\n",
    "tamil_mixed = tamil_data[tamil_data[\"Tag\"] == \"tmen\"]\n",
    "\n",
    "# Names from other languages are also included (More the data, Better the performance)\n",
    "tamil_name = tamil_data[tamil_data[\"Tag\"] == \"name\"]\n",
    "kanada_name = kanada_data[kanada_data[\"Tag\"] == \"name\"]\n",
    "tulu_name = tulu_data[tulu_data[\"Language\"] == \"Name\"]\n",
    "tulu_name.columns = [\"Word\", \"Tag\"]\n",
    "tulu_name[\"Tag\"] = tulu_name[\"Tag\"].replace(\"Name\", \"name\")\n",
    "malayalam_name = malayalam_data[malayalam_data[\"Tag\"] == \"NAME\"]\n",
    "malayalam_name[\"Tag\"] = malayalam_name[\"Tag\"].replace(\"NAME\", \"name\")\n",
    "\n",
    "# Locations from other languages are also included\n",
    "tamil_loc = tamil_data[tamil_data[\"Tag\"] == \"Location\"]\n",
    "kanada_loc = kanada_data[kanada_data[\"Tag\"] == \"location\"]\n",
    "kanada_loc[\"Tag\"] = kanada_loc[\"Tag\"].replace(\"location\", \"Location\")\n",
    "tulu_loc = tulu_data[tulu_data[\"Language\"] == \"Location\"]\n",
    "tulu_loc.columns = [\"Word\", \"Tag\"]\n",
    "malayalam_loc = malayalam_data[malayalam_data[\"Tag\"] == \"PLACE\"]\n",
    "malayalam_loc[\"Tag\"] = malayalam_loc[\"Tag\"].replace(\"PLACE\", \"Location\")\n",
    "\n",
    "# Combining all the data needed for training\n",
    "tamil_data = pd.concat([tamil_data, tamil_other, tamil_en, tamil_mixed, tamil_other, kanada_loc, tamil_other, kanada_name, tamil_other, tulu_name, tamil_mixed, tamil_name, tulu_loc, tamil_loc, tamil_other, malayalam_loc, malayalam_name])\n",
    "\n",
    "# Removing some unknown Tag present in the given dataset \n",
    "tamil_data[\"Tag\"] = np.where(tamil_data[\"Tag\"].isin([\"tm\", \"en\", \"tmen\", \"sym\", \"name\", \"Other\", \"Location\"]), tamil_data[\"Tag\"], \"Other\")"
   ]
  },
  {
   "cell_type": "markdown",
   "metadata": {},
   "source": [
    "## Data Visualization"
   ]
  },
  {
   "cell_type": "code",
   "execution_count": 11,
   "metadata": {},
   "outputs": [
    {
     "data": {
      "text/plain": [
       "Tag\n",
       "tm          8064\n",
       "name        7745\n",
       "en          6518\n",
       "tmen        4197\n",
       "sym         1309\n",
       "Location     839\n",
       "Other        489\n",
       "Name: count, dtype: int64"
      ]
     },
     "execution_count": 11,
     "metadata": {},
     "output_type": "execute_result"
    }
   ],
   "source": [
    "tamil_data[\"Tag\"].value_counts()"
   ]
  },
  {
   "cell_type": "code",
   "execution_count": 12,
   "metadata": {},
   "outputs": [
    {
     "data": {
      "text/plain": [
       "count     29161\n",
       "unique        7\n",
       "top          tm\n",
       "freq       8064\n",
       "Name: Tag, dtype: object"
      ]
     },
     "execution_count": 12,
     "metadata": {},
     "output_type": "execute_result"
    }
   ],
   "source": [
    "tamil_data[\"Tag\"].describe()"
   ]
  },
  {
   "cell_type": "code",
   "execution_count": 13,
   "metadata": {},
   "outputs": [
    {
     "data": {
      "text/plain": [
       "<Axes: xlabel='Tag', ylabel='Count'>"
      ]
     },
     "execution_count": 13,
     "metadata": {},
     "output_type": "execute_result"
    },
    {
     "data": {
      "image/png": "[encoded data removed]",
      "text/plain": [
       "<Figure size 640x480 with 1 Axes>"
      ]
     },
     "metadata": {},
     "output_type": "display_data"
    }
   ],
   "source": [
    "sb.histplot(tamil_data[\"Tag\"])"
   ]
  },
  {
   "cell_type": "markdown",
   "metadata": {},
   "source": [
    "## ML Model Analysis"
   ]
  },
  {
   "cell_type": "markdown",
   "metadata": {},
   "source": [
    "### Model and Vector Initialization"
   ]
  },
  {
   "cell_type": "code",
   "execution_count": 24,
   "metadata": {},
   "outputs": [],
   "source": [
    "# Using Character Level Count Vectorizer to extract features from each Word\n",
    "countVectorizer = CountVectorizer(ngram_range=(1,5), analyzer='char')\n",
    "\n",
    "# Used for analysis of each model\n",
    "kf = KFold(n_splits=10, shuffle=True, random_state=42)\n",
    "\n",
    "\n",
    "model1 = DecisionTreeClassifier(random_state=42)\n",
    "\n",
    "model2 = LogisticRegression(solver='newton-cg', max_iter=2000)\n",
    "\n",
    "model3 = svm.SVC()\n",
    "\n",
    "model7 = VotingClassifier(\n",
    "    estimators=[\n",
    "        ('dtc', model1), \n",
    "        ('lr', model2), \n",
    "        ('svm', model3),\n",
    "    ],\n",
    "    voting='hard'\n",
    ")\n",
    "\n",
    "\n",
    "acc = [[], [], []] \n",
    "f1 = [[], [], []]\n",
    "pre = [[], [], []]\n",
    "rec = [[], [], []]\n",
    "\n",
    "f1_a = [[], [], []]"
   ]
  },
  {
   "cell_type": "markdown",
   "metadata": {},
   "source": [
    "### Training of the Models"
   ]
  },
  {
   "cell_type": "code",
   "execution_count": 25,
   "metadata": {},
   "outputs": [],
   "source": [
    "# X,Y of the Training data\n",
    "X = tamil_data[\"Word\"]\n",
    "Y = tamil_data[\"Tag\"]\n",
    "\n",
    "\n",
    "for train_index, test_index in kf.split(X):\n",
    "    # Segregating the train and test data for this iteration\n",
    "    X_train, X_test = X.iloc[train_index], X.iloc[test_index]\n",
    "    y_train, y_test = Y.iloc[train_index], Y.iloc[test_index]\n",
    "    \n",
    "    # Vectorizing the Word\n",
    "    train_vect_count = countVectorizer.fit_transform(X_train)\n",
    "    test_vect_count = countVectorizer.transform(X_test)\n",
    "\n",
    "    # DECISION TREE CLASSIFIER MODEL\n",
    "    model1.fit(train_vect_count, y_train)\n",
    "    model1_predict = model1.predict(test_vect_count)\n",
    "\n",
    "    acc[0].append(accuracy_score(y_test, model1_predict))\n",
    "    f1[0].append(f1_score(y_test, model1_predict, average='macro'))\n",
    "    f1_a[0].append(f1_score(y_test, model1_predict, average='weighted'))\n",
    "    pre[0].append(precision_score(y_test, model1_predict, average='macro', zero_division=np.nan))\n",
    "    rec[0].append(recall_score(y_test, model1_predict, average='macro', zero_division=np.nan))\n",
    "\n",
    "\n",
    "    # LOGISTIC REGRESSION MODEL\n",
    "    model2.fit(train_vect_count, y_train)\n",
    "    model2_predict = model2.predict(test_vect_count)\n",
    "\n",
    "    acc[1].append(accuracy_score(y_test, model2_predict))\n",
    "    f1[1].append(f1_score(y_test, model2_predict, average='macro'))\n",
    "    f1_a[1].append(f1_score(y_test, model2_predict, average='weighted'))\n",
    "    pre[1].append(precision_score(y_test, model2_predict, average=\"macro\", zero_division=np.nan))\n",
    "    rec[1].append(recall_score(y_test, model2_predict, average=\"macro\", zero_division=np.nan))\n",
    "\n",
    "    # SUPPORT VECTOR MACHINE MODEL\n",
    "    model3.fit(train_vect_count, y_train)\n",
    "    model3_predict = model3.predict(test_vect_count)\n",
    "\n",
    "    acc[2].append(accuracy_score(y_test, model3_predict))\n",
    "    f1[2].append(f1_score(y_test, model3_predict, average=\"macro\"))\n",
    "    f1_a[2].append(f1_score(y_test, model3_predict, average=\"weighted\"))\n",
    "    pre[2].append(precision_score(y_test, model3_predict, average=\"macro\", zero_division=np.nan))\n",
    "    rec[2].append(recall_score(y_test, model3_predict, average=\"macro\", zero_division=np.nan))"
   ]
  },
  {
   "cell_type": "markdown",
   "metadata": {},
   "source": [
    "### Score analysis of each Model"
   ]
  },
  {
   "cell_type": "code",
   "execution_count": 26,
   "metadata": {},
   "outputs": [
    {
     "data": {
      "text/html": [
       "<table>\n",
       "    <thead>\n",
       "        <tr>\n",
       "            <th>Model Name</th>\n",
       "            <th>Accuracy</th>\n",
       "            <th>F1 Score (Macro)</th>\n",
       "            <th>F1 Score (Weighted)</th>\n",
       "            <th>Precision</th>\n",
       "            <th>Recall Score</th>\n",
       "        </tr>\n",
       "    </thead>\n",
       "    <tbody>\n",
       "        <tr>\n",
       "            <td>Decision Tree Classifier</td>\n",
       "            <td>0.9235622807128921</td>\n",
       "            <td>0.9207967845296935</td>\n",
       "            <td>0.923197287100783</td>\n",
       "            <td>0.9140878146385492</td>\n",
       "            <td>0.9289657124749731</td>\n",
       "        </tr>\n",
       "        <tr>\n",
       "            <td>Logistic Regression</td>\n",
       "            <td>0.9374848988451878</td>\n",
       "            <td>0.934104558149507</td>\n",
       "            <td>0.9373220752178112</td>\n",
       "            <td>0.9324733946938488</td>\n",
       "            <td>0.9368028195401938</td>\n",
       "        </tr>\n",
       "        <tr>\n",
       "            <td>Support Vector Machine</td>\n",
       "            <td>0.9232536857633672</td>\n",
       "            <td>0.9133870387577682</td>\n",
       "            <td>0.9229353984307156</td>\n",
       "            <td>0.9243395434946248</td>\n",
       "            <td>0.906087542871138</td>\n",
       "        </tr>\n",
       "    </tbody>\n",
       "</table>"
      ],
      "text/plain": [
       "+--------------------------+--------------------+--------------------+---------------------+--------------------+--------------------+\n",
       "|        Model Name        |      Accuracy      |  F1 Score (Macro)  | F1 Score (Weighted) |     Precision      |    Recall Score    |\n",
       "+--------------------------+--------------------+--------------------+---------------------+--------------------+--------------------+\n",
       "| Decision Tree Classifier | 0.9235622807128921 | 0.9207967845296935 |  0.923197287100783  | 0.9140878146385492 | 0.9289657124749731 |\n",
       "|   Logistic Regression    | 0.9374848988451878 | 0.934104558149507  |  0.9373220752178112 | 0.9324733946938488 | 0.9368028195401938 |\n",
       "|  Support Vector Machine  | 0.9232536857633672 | 0.9133870387577682 |  0.9229353984307156 | 0.9243395434946248 | 0.906087542871138  |\n",
       "+--------------------------+--------------------+--------------------+---------------------+--------------------+--------------------+"
      ]
     },
     "execution_count": 26,
     "metadata": {},
     "output_type": "execute_result"
    }
   ],
   "source": [
    "DTC = [\"Decision Tree Classifier\",sum(acc[0])/len(acc[0]), sum(f1[0])/len(f1[0]), sum(f1_a[0])/len(f1_a[0]),sum(pre[0])/len(pre[0]), sum(rec[0])/len(rec[0])]\n",
    "Logistic = [\"Logistic Regression\", sum(acc[1])/len(acc[1]), sum(f1[1])/len(f1[1]), sum(f1_a[1])/len(f1_a[1]), sum(pre[1])/len(pre[1]), sum(rec[1])/len(rec[1])]\n",
    "SVM = [\"Support Vector Machine\",sum(acc[2])/len(acc[2]), sum(f1[2])/len(f1[2]), sum(f1_a[2])/len(f1_a[2]), sum(pre[2])/len(pre[2]), sum(rec[2])/len(rec[2])]\n",
    "\n",
    "fields = [\"Model Name\", \"Accuracy\", \"F1 Score (Macro)\", \"F1 Score (Weighted)\", \"Precision\", \"Recall Score\"]\n",
    "\n",
    "table = PrettyTable(field_names=fields)\n",
    "table.add_rows([DTC, Logistic, SVM])\n",
    "table"
   ]
  },
  {
   "cell_type": "markdown",
   "metadata": {},
   "source": [
    "## Model Training and Prediction"
   ]
  },
  {
   "cell_type": "code",
   "execution_count": 27,
   "metadata": {},
   "outputs": [],
   "source": [
    "# Initializing the Training and Test data\n",
    "x_train = tamil_data[\"Word\"]\n",
    "y_train = tamil_data[\"Tag\"]\n",
    "final_test = pd.read_csv(\"Tamil_Test_Set_No_Labels.csv\")\n",
    "x_test = final_test[\"Word\"].replace(\"*\", \"asterisk\").fillna(\"\")\n",
    "\n",
    "# Vectorizing the Words\n",
    "count_vec_train = countVectorizer.fit_transform(x_train)\n",
    "count_vec_test = countVectorizer.transform(x_test)\n",
    "\n",
    "# Fitting the Training Data in the Model\n",
    "model7.fit(count_vec_train, y_train)\n",
    "# Predicting the Test Data\n",
    "pred = model7.predict(count_vec_test)\n",
    "\n",
    "# Converting the Predictions back to CSV file\n",
    "result = pd.concat([final_test.reset_index(drop=True), pd.Series(pred, name=\"Tag\")], axis=1)\n",
    "result.to_csv('predictions.csv', index=False)"
   ]
  },
  {
   "cell_type": "markdown",
   "metadata": {},
   "source": [
    "## Overview of Prediction"
   ]
  },
  {
   "cell_type": "code",
   "execution_count": 28,
   "metadata": {},
   "outputs": [
    {
     "data": {
      "text/plain": [
       "Tag\n",
       "tm          953\n",
       "en          547\n",
       "sym         204\n",
       "tmen        149\n",
       "name        140\n",
       "Location     16\n",
       "Other        15\n",
       "Name: count, dtype: int64"
      ]
     },
     "execution_count": 28,
     "metadata": {},
     "output_type": "execute_result"
    }
   ],
   "source": [
    "ans = pd.read_csv(\"predictions.csv\")\n",
    "ans[\"Tag\"].value_counts()"
   ]
  }
 ],
 "metadata": {
  "kernelspec": {
   "display_name": "Python 3",
   "language": "python",
   "name": "python3"
  },
  "language_info": {
   "codemirror_mode": {
    "name": "ipython",
    "version": 3
   },
   "file_extension": ".py",
   "mimetype": "text/x-python",
   "name": "python",
   "nbconvert_exporter": "python",
   "pygments_lexer": "ipython3",
   "version": "3.12.1"
  }
 },
 "nbformat": 4,
 "nbformat_minor": 2
}
