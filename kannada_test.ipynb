{
 "cells": [
  {
   "cell_type": "code",
   "execution_count": 1,
   "metadata": {},
   "outputs": [],
   "source": [
    "import pandas as pd\n",
    "import numpy as np\n",
    "\n",
    "import matplotlib.pyplot as plt\n",
    "import seaborn as sb\n",
    "from prettytable import PrettyTable\n",
    "\n",
    "from sklearn.model_selection import KFold\n",
    "from sklearn.linear_model import LogisticRegression\n",
    "from sklearn import svm\n",
    "from sklearn.tree import DecisionTreeClassifier\n",
    "from sklearn.feature_extraction.text import CountVectorizer\n",
    "from sklearn.feature_extraction.text import TfidfVectorizer\n",
    "from sklearn.ensemble import VotingClassifier\n",
    "from sklearn.metrics import accuracy_score, f1_score, classification_report\n",
    "from sklearn.metrics import precision_score\n",
    "from sklearn.metrics import recall_score"
   ]
  },
  {
   "cell_type": "code",
   "execution_count": 2,
   "metadata": {},
   "outputs": [],
   "source": [
    "kanada_data = pd.read_csv(\"kn_train.csv\")\n",
    "kanada_val = pd.read_csv(\"kn_val.csv\")\n",
    "kanada_test = pd.read_csv(\"Kannada_Test_Set_No_Labels.csv\")\n",
    "kanada_data = pd.concat([kanada_data, kanada_val], axis=0)\n",
    "\n",
    "tamil_data = pd.read_csv(\"tamil_train.csv\")\n",
    "tamil_val = pd.read_csv(\"tamil_val.csv\")\n",
    "tamil_test = pd.read_csv(\"Tamil_Test_Set_No_Labels.csv\")\n",
    "tamil_data = pd.concat([tamil_data, tamil_val], axis=0)\n",
    "\n",
    "tulu_data = pd.read_csv(\"tulu_train.csv\")\n",
    "tulu_val = pd.read_csv(\"tulu_val.csv\")\n",
    "tulu_test = pd.read_csv(\"Tulu_Test_Set_No_Labels.csv\")\n",
    "tulu_data = pd.concat([tulu_data, tulu_val], axis=0)\n",
    "\n",
    "malayalam_data = pd.read_csv(\"mal_train.csv\")\n",
    "malayalam_val = pd.read_csv(\"mal_val.csv\")\n",
    "malayalam_test = pd.read_csv(\"Malayalam_Test_Set_No_Labels.csv\")\n",
    "malayalam_data = pd.concat([malayalam_data, malayalam_val], axis=0)"
   ]
  },
  {
   "cell_type": "code",
   "execution_count": 3,
   "metadata": {},
   "outputs": [
    {
     "name": "stderr",
     "output_type": "stream",
     "text": [
      "C:\\Users\\justa\\AppData\\Local\\Temp\\ipykernel_22220\\3075093012.py:9: SettingWithCopyWarning: \n",
      "A value is trying to be set on a copy of a slice from a DataFrame.\n",
      "Try using .loc[row_indexer,col_indexer] = value instead\n",
      "\n",
      "See the caveats in the documentation: https://pandas.pydata.org/pandas-docs/stable/user_guide/indexing.html#returning-a-view-versus-a-copy\n",
      "  tulu_kn[\"Tag\"] = tulu_kn[\"Tag\"].replace(\"Kannada\", \"kn\")\n",
      "C:\\Users\\justa\\AppData\\Local\\Temp\\ipykernel_22220\\3075093012.py:16: SettingWithCopyWarning: \n",
      "A value is trying to be set on a copy of a slice from a DataFrame.\n",
      "Try using .loc[row_indexer,col_indexer] = value instead\n",
      "\n",
      "See the caveats in the documentation: https://pandas.pydata.org/pandas-docs/stable/user_guide/indexing.html#returning-a-view-versus-a-copy\n",
      "  tulu_name[\"Tag\"] = tulu_name[\"Tag\"].replace(\"Name\", \"name\")\n",
      "C:\\Users\\justa\\AppData\\Local\\Temp\\ipykernel_22220\\3075093012.py:18: SettingWithCopyWarning: \n",
      "A value is trying to be set on a copy of a slice from a DataFrame.\n",
      "Try using .loc[row_indexer,col_indexer] = value instead\n",
      "\n",
      "See the caveats in the documentation: https://pandas.pydata.org/pandas-docs/stable/user_guide/indexing.html#returning-a-view-versus-a-copy\n",
      "  malayalam_name[\"Tag\"] = malayalam_name[\"Tag\"].replace(\"NAME\", \"name\")\n",
      "C:\\Users\\justa\\AppData\\Local\\Temp\\ipykernel_22220\\3075093012.py:21: SettingWithCopyWarning: \n",
      "A value is trying to be set on a copy of a slice from a DataFrame.\n",
      "Try using .loc[row_indexer,col_indexer] = value instead\n",
      "\n",
      "See the caveats in the documentation: https://pandas.pydata.org/pandas-docs/stable/user_guide/indexing.html#returning-a-view-versus-a-copy\n",
      "  tamil_loc[\"Tag\"] = tamil_loc[\"Tag\"].replace(\"Location\", \"location\")\n",
      "C:\\Users\\justa\\AppData\\Local\\Temp\\ipykernel_22220\\3075093012.py:25: SettingWithCopyWarning: \n",
      "A value is trying to be set on a copy of a slice from a DataFrame.\n",
      "Try using .loc[row_indexer,col_indexer] = value instead\n",
      "\n",
      "See the caveats in the documentation: https://pandas.pydata.org/pandas-docs/stable/user_guide/indexing.html#returning-a-view-versus-a-copy\n",
      "  tulu_loc[\"Tag\"] = tulu_loc[\"Tag\"].replace(\"Location\", \"location\")\n",
      "C:\\Users\\justa\\AppData\\Local\\Temp\\ipykernel_22220\\3075093012.py:27: SettingWithCopyWarning: \n",
      "A value is trying to be set on a copy of a slice from a DataFrame.\n",
      "Try using .loc[row_indexer,col_indexer] = value instead\n",
      "\n",
      "See the caveats in the documentation: https://pandas.pydata.org/pandas-docs/stable/user_guide/indexing.html#returning-a-view-versus-a-copy\n",
      "  malayalam_loc[\"Tag\"] = malayalam_loc[\"Tag\"].replace(\"PLACE\", \"location\")\n"
     ]
    }
   ],
   "source": [
    "# Removing wrong data in the \"sym\" category and changing \"*\" symbol to \"asterisk\" word for Better Vectorization\n",
    "kanada_data = kanada_data[~((kanada_data[\"Word\"] == \"and\") & (kanada_data[\"Tag\"] == \"sym\"))].replace(\"*\", \"asterisk\").fillna(\"\")\n",
    "\n",
    "# Oversampling \"other\", \"mixed\" and \"kn\" categories to improve accuracy of those categories\n",
    "kanada_other = kanada_data[kanada_data[\"Tag\"] == \"other\"]\n",
    "kn = kanada_data[kanada_data[\"Tag\"] == \"kn\"]\n",
    "tulu_kn = tulu_data[tulu_data[\"Language\"] == \"Kannada\"]\n",
    "tulu_kn.columns = [\"Word\", \"Tag\"]\n",
    "tulu_kn[\"Tag\"] = tulu_kn[\"Tag\"].replace(\"Kannada\", \"kn\")\n",
    "kn_mixed = kanada_data[kanada_data[\"Tag\"] == \"mixed\"]\n",
    "\n",
    "# Names from other languages are also included (More the data, Better the performance)\n",
    "tamil_name = tamil_data[tamil_data[\"Tag\"] == \"name\"]\n",
    "kanada_name = kanada_data[kanada_data[\"Tag\"] == \"name\"]\n",
    "tulu_name = tulu_data[tulu_data[\"Language\"] == \"Name\"]\n",
    "tulu_name.columns = [\"Word\", \"Tag\"]\n",
    "tulu_name[\"Tag\"] = tulu_name[\"Tag\"].replace(\"Name\", \"name\")\n",
    "malayalam_name = malayalam_data[malayalam_data[\"Tag\"] == \"NAME\"]\n",
    "malayalam_name[\"Tag\"] = malayalam_name[\"Tag\"].replace(\"NAME\", \"name\")\n",
    "\n",
    "# Locations from other languages are also included\n",
    "tamil_loc = tamil_data[tamil_data[\"Tag\"] == \"Location\"]\n",
    "tamil_loc[\"Tag\"] = tamil_loc[\"Tag\"].replace(\"Location\", \"location\")\n",
    "kanada_loc = kanada_data[kanada_data[\"Tag\"] == \"location\"]\n",
    "tulu_loc = tulu_data[tulu_data[\"Language\"] == \"Location\"]\n",
    "tulu_loc.columns = [\"Word\", \"Tag\"]\n",
    "tulu_loc[\"Tag\"] = tulu_loc[\"Tag\"].replace(\"Location\", \"location\")\n",
    "malayalam_loc = malayalam_data[malayalam_data[\"Tag\"] == \"PLACE\"]\n",
    "malayalam_loc[\"Tag\"] = malayalam_loc[\"Tag\"].replace(\"PLACE\", \"location\")\n",
    "\n",
    "# Combining all the data needed for training\n",
    "kanada_data = pd.concat([kanada_data, tulu_kn, kanada_loc, kanada_name, tulu_name, kn_mixed, tamil_name, kanada_other, tulu_loc, kn, tamil_loc, malayalam_loc, kn_mixed, malayalam_name]).fillna(\"\")"
   ]
  },
  {
   "cell_type": "code",
   "execution_count": 4,
   "metadata": {},
   "outputs": [
    {
     "data": {
      "text/html": [
       "<div>\n",
       "<style scoped>\n",
       "    .dataframe tbody tr th:only-of-type {\n",
       "        vertical-align: middle;\n",
       "    }\n",
       "\n",
       "    .dataframe tbody tr th {\n",
       "        vertical-align: top;\n",
       "    }\n",
       "\n",
       "    .dataframe thead th {\n",
       "        text-align: right;\n",
       "    }\n",
       "</style>\n",
       "<table border=\"1\" class=\"dataframe\">\n",
       "  <thead>\n",
       "    <tr style=\"text-align: right;\">\n",
       "      <th></th>\n",
       "      <th>Word</th>\n",
       "      <th>Tag</th>\n",
       "    </tr>\n",
       "  </thead>\n",
       "  <tbody>\n",
       "    <tr>\n",
       "      <th>count</th>\n",
       "      <td>52385</td>\n",
       "      <td>52385</td>\n",
       "    </tr>\n",
       "    <tr>\n",
       "      <th>unique</th>\n",
       "      <td>10453</td>\n",
       "      <td>7</td>\n",
       "    </tr>\n",
       "    <tr>\n",
       "      <th>top</th>\n",
       "      <td>asterisk</td>\n",
       "      <td>en</td>\n",
       "    </tr>\n",
       "    <tr>\n",
       "      <th>freq</th>\n",
       "      <td>4070</td>\n",
       "      <td>18777</td>\n",
       "    </tr>\n",
       "  </tbody>\n",
       "</table>\n",
       "</div>"
      ],
      "text/plain": [
       "            Word    Tag\n",
       "count      52385  52385\n",
       "unique     10453      7\n",
       "top     asterisk     en\n",
       "freq        4070  18777"
      ]
     },
     "execution_count": 4,
     "metadata": {},
     "output_type": "execute_result"
    }
   ],
   "source": [
    "kanada_data.describe()"
   ]
  },
  {
   "cell_type": "code",
   "execution_count": 5,
   "metadata": {},
   "outputs": [
    {
     "data": {
      "text/plain": [
       "<Axes: xlabel='Tag', ylabel='Count'>"
      ]
     },
     "execution_count": 5,
     "metadata": {},
     "output_type": "execute_result"
    },
    {
     "data": {
      "image/png": "[encoded data removed]",
      "text/plain": [
       "<Figure size 640x480 with 1 Axes>"
      ]
     },
     "metadata": {},
     "output_type": "display_data"
    }
   ],
   "source": [
    "sb.histplot(kanada_data[\"Tag\"])"
   ]
  },
  {
   "cell_type": "code",
   "execution_count": 6,
   "metadata": {},
   "outputs": [],
   "source": [
    "countVectorizer = CountVectorizer(ngram_range=(1,5), analyzer='char')\n",
    "\n",
    "kf = KFold(n_splits=10, shuffle=True, random_state=42)\n",
    "\n",
    "model1 = DecisionTreeClassifier(random_state=42)\n",
    "\n",
    "model2 = LogisticRegression(solver='newton-cg', max_iter=2000)\n",
    "\n",
    "model3 = svm.SVC()\n",
    "\n",
    "model7 = VotingClassifier(\n",
    "    estimators=[\n",
    "        ('dtc', model1), \n",
    "        ('lr', model2), \n",
    "        ('svm', model3),\n",
    "    ],\n",
    "    voting='hard'\n",
    ")\n",
    "\n",
    "acc = [[], [], []] \n",
    "f1 = [[], [], []]\n",
    "pre = [[], [], []]\n",
    "rec = [[], [], []]\n",
    "\n",
    "f1_a = [[], [], []]"
   ]
  },
  {
   "cell_type": "code",
   "execution_count": 7,
   "metadata": {},
   "outputs": [],
   "source": [
    "X = kanada_data[\"Word\"]\n",
    "Y = kanada_data[\"Tag\"]\n",
    "\n",
    "for train_index, test_index in kf.split(X):\n",
    "    X_train, X_test = X.iloc[train_index], X.iloc[test_index]\n",
    "    y_train, y_test = Y.iloc[train_index], Y.iloc[test_index]\n",
    "    \n",
    "\n",
    "    train_vect_count = countVectorizer.fit_transform(X_train)\n",
    "    test_vect_count = countVectorizer.transform(X_test)\n",
    "\n",
    "    # DECISION TREE CLASSIFIER MODEL\n",
    "    model1.fit(train_vect_count, y_train)\n",
    "    model1_predict = model1.predict(test_vect_count)\n",
    "\n",
    "    acc[0].append(accuracy_score(y_test, model1_predict))\n",
    "    f1[0].append(f1_score(y_test, model1_predict, average='macro'))\n",
    "    f1_a[0].append(f1_score(y_test, model1_predict, average='weighted'))\n",
    "    pre[0].append(precision_score(y_test, model1_predict, average='macro', zero_division=np.nan))\n",
    "    rec[0].append(recall_score(y_test, model1_predict, average='macro', zero_division=np.nan))\n",
    "\n",
    "\n",
    "    # LOGISTIC REGRESSION MODEL\n",
    "    model2.fit(train_vect_count, y_train)\n",
    "    model2_predict = model2.predict(test_vect_count)\n",
    "\n",
    "    acc[1].append(accuracy_score(y_test, model2_predict))\n",
    "    f1[1].append(f1_score(y_test, model2_predict, average='macro'))\n",
    "    f1_a[1].append(f1_score(y_test, model2_predict, average='weighted'))\n",
    "    pre[1].append(precision_score(y_test, model2_predict, average=\"macro\", zero_division=np.nan))\n",
    "    rec[1].append(recall_score(y_test, model2_predict, average=\"macro\", zero_division=np.nan))\n",
    "\n",
    "    # SUPPORT VECTOR MACHINE MODEL\n",
    "    model3.fit(train_vect_count, y_train)\n",
    "    model3_predict = model3.predict(test_vect_count)\n",
    "\n",
    "    acc[2].append(accuracy_score(y_test, model3_predict))\n",
    "    f1[2].append(f1_score(y_test, model3_predict, average=\"macro\"))\n",
    "    f1_a[2].append(f1_score(y_test, model3_predict, average=\"weighted\"))\n",
    "    pre[2].append(precision_score(y_test, model3_predict, average=\"macro\", zero_division=np.nan))\n",
    "    rec[2].append(recall_score(y_test, model3_predict, average=\"macro\", zero_division=np.nan))"
   ]
  },
  {
   "cell_type": "code",
   "execution_count": 8,
   "metadata": {},
   "outputs": [
    {
     "data": {
      "text/html": [
       "<table>\n",
       "    <thead>\n",
       "        <tr>\n",
       "            <th>Model Name</th>\n",
       "            <th>Accuracy</th>\n",
       "            <th>F1 Score (Macro)</th>\n",
       "            <th>F1 Score (Weighted)</th>\n",
       "            <th>Precision</th>\n",
       "            <th>Recall Score</th>\n",
       "        </tr>\n",
       "    </thead>\n",
       "    <tbody>\n",
       "        <tr>\n",
       "            <td>Decision Tree Classifier</td>\n",
       "            <td>0.9525435828344426</td>\n",
       "            <td>0.943472996097498</td>\n",
       "            <td>0.9524164339286629</td>\n",
       "            <td>0.9445857062234179</td>\n",
       "            <td>0.9432625997979203</td>\n",
       "        </tr>\n",
       "        <tr>\n",
       "            <td>Logistic Regression</td>\n",
       "            <td>0.958938530527899</td>\n",
       "            <td>0.9511064826837863</td>\n",
       "            <td>0.9587376274508855</td>\n",
       "            <td>0.9551628973353552</td>\n",
       "            <td>0.9475618667529441</td>\n",
       "        </tr>\n",
       "        <tr>\n",
       "            <td>Support Vector Machine</td>\n",
       "            <td>0.9453849338758908</td>\n",
       "            <td>0.9352188218820473</td>\n",
       "            <td>0.944835482154906</td>\n",
       "            <td>0.9496513156367257</td>\n",
       "            <td>0.9230310420788204</td>\n",
       "        </tr>\n",
       "    </tbody>\n",
       "</table>"
      ],
      "text/plain": [
       "+--------------------------+--------------------+--------------------+---------------------+--------------------+--------------------+\n",
       "|        Model Name        |      Accuracy      |  F1 Score (Macro)  | F1 Score (Weighted) |     Precision      |    Recall Score    |\n",
       "+--------------------------+--------------------+--------------------+---------------------+--------------------+--------------------+\n",
       "| Decision Tree Classifier | 0.9525435828344426 | 0.943472996097498  |  0.9524164339286629 | 0.9445857062234179 | 0.9432625997979203 |\n",
       "|   Logistic Regression    | 0.958938530527899  | 0.9511064826837863 |  0.9587376274508855 | 0.9551628973353552 | 0.9475618667529441 |\n",
       "|  Support Vector Machine  | 0.9453849338758908 | 0.9352188218820473 |  0.944835482154906  | 0.9496513156367257 | 0.9230310420788204 |\n",
       "+--------------------------+--------------------+--------------------+---------------------+--------------------+--------------------+"
      ]
     },
     "execution_count": 8,
     "metadata": {},
     "output_type": "execute_result"
    }
   ],
   "source": [
    "DTC = [\"Decision Tree Classifier\",sum(acc[0])/len(acc[0]), sum(f1[0])/len(f1[0]), sum(f1_a[0])/len(f1_a[0]),sum(pre[0])/len(pre[0]), sum(rec[0])/len(rec[0])]\n",
    "Logistic = [\"Logistic Regression\", sum(acc[1])/len(acc[1]), sum(f1[1])/len(f1[1]), sum(f1_a[1])/len(f1_a[1]), sum(pre[1])/len(pre[1]), sum(rec[1])/len(rec[1])]\n",
    "SVM = [\"Support Vector Machine\",sum(acc[2])/len(acc[2]), sum(f1[2])/len(f1[2]), sum(f1_a[2])/len(f1_a[2]), sum(pre[2])/len(pre[2]), sum(rec[2])/len(rec[2])]\n",
    "\n",
    "fields = [\"Model Name\", \"Accuracy\", \"F1 Score (Macro)\", \"F1 Score (Weighted)\", \"Precision\", \"Recall Score\"]\n",
    "\n",
    "table = PrettyTable(field_names=fields)\n",
    "table.add_rows([DTC, Logistic, SVM])\n",
    "table"
   ]
  },
  {
   "cell_type": "code",
   "execution_count": 9,
   "metadata": {},
   "outputs": [
    {
     "name": "stdout",
     "output_type": "stream",
     "text": [
      "              precision    recall  f1-score   support\n",
      "\n",
      "          en       1.00      0.99      1.00      1109\n",
      "          kn       0.99      0.99      0.99       637\n",
      "    location       1.00      0.92      0.96        13\n",
      "       mixed       0.98      0.99      0.99       180\n",
      "        name       0.97      1.00      0.98       158\n",
      "       other       0.96      0.94      0.95        53\n",
      "         sym       1.00      1.00      1.00       334\n",
      "\n",
      "    accuracy                           0.99      2484\n",
      "   macro avg       0.99      0.98      0.98      2484\n",
      "weighted avg       0.99      0.99      0.99      2484\n",
      " \n",
      "\n"
     ]
    }
   ],
   "source": [
    "x_train = kanada_data[\"Word\"]\n",
    "y_train = kanada_data[\"Tag\"]\n",
    "x_test = kanada_val[\"Word\"].replace(\"*\", \"asterisk\").fillna(\"\")\n",
    "y_test = kanada_val[\"Tag\"]\n",
    "\n",
    "count_vec_train = countVectorizer.fit_transform(x_train)\n",
    "count_vec_test = countVectorizer.transform(x_test)\n",
    "\n",
    "model7.fit(count_vec_train, y_train)\n",
    "model7_predict = model7.predict(count_vec_test)\n",
    "\n",
    "print(classification_report(y_test, model7_predict), \"\\n\")"
   ]
  },
  {
   "cell_type": "code",
   "execution_count": 10,
   "metadata": {},
   "outputs": [],
   "source": [
    "x_train = kanada_data[\"Word\"]\n",
    "y_train = kanada_data[\"Tag\"]\n",
    "final_test = pd.read_csv(\"Kannada_Test_Set_No_Labels.csv\")\n",
    "x_test = final_test[\"Word\"].replace(\"*\", \"asterisk\").fillna(\"\")\n",
    "\n",
    "count_vec_train = countVectorizer.fit_transform(x_train)\n",
    "count_vec_test = countVectorizer.transform(x_test)\n",
    "\n",
    "model7.fit(count_vec_train, y_train)\n",
    "pred = model7.predict(count_vec_test)\n",
    "\n",
    "result = pd.concat([final_test.reset_index(drop=True), pd.Series(pred, name=\"Tag\")], axis=1)\n",
    "result.to_csv('predictions.csv', index=False)"
   ]
  },
  {
   "cell_type": "code",
   "execution_count": 11,
   "metadata": {},
   "outputs": [
    {
     "data": {
      "text/plain": [
       "Tag\n",
       "en          1290\n",
       "kn           618\n",
       "sym          306\n",
       "name         124\n",
       "other         81\n",
       "mixed         66\n",
       "location      17\n",
       "Name: count, dtype: int64"
      ]
     },
     "execution_count": 11,
     "metadata": {},
     "output_type": "execute_result"
    }
   ],
   "source": [
    "ans = pd.read_csv(\"predictions.csv\")\n",
    "ans[\"Tag\"].value_counts()"
   ]
  }
 ],
 "metadata": {
  "kernelspec": {
   "display_name": "Python 3",
   "language": "python",
   "name": "python3"
  },
  "language_info": {
   "codemirror_mode": {
    "name": "ipython",
    "version": 3
   },
   "file_extension": ".py",
   "mimetype": "text/x-python",
   "name": "python",
   "nbconvert_exporter": "python",
   "pygments_lexer": "ipython3",
   "version": "3.12.1"
  }
 },
 "nbformat": 4,
 "nbformat_minor": 2
}
